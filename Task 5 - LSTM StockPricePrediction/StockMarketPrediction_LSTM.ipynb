{
  "nbformat": 4,
  "nbformat_minor": 0,
  "metadata": {
    "colab": {
      "provenance": []
    },
    "kernelspec": {
      "name": "python3",
      "display_name": "Python 3"
    },
    "language_info": {
      "name": "python"
    }
  },
  "cells": [
    {
      "cell_type": "markdown",
      "source": [
        "#Stock Market Prediction and Forecasting using Stacked LSTM\n"
      ],
      "metadata": {
        "id": "2S_8EJNZayiT"
      }
    },
    {
      "cell_type": "markdown",
      "source": [
        "###Collecting Data"
      ],
      "metadata": {
        "id": "bFkdA_XONDZe"
      }
    },
    {
      "cell_type": "code",
      "source": [
        "# Step 1: Mount Google Drive\n",
        "from google.colab import drive\n",
        "drive.mount('/content/drive')\n"
      ],
      "metadata": {
        "colab": {
          "base_uri": "https://localhost:8080/"
        },
        "id": "CcuX9huB_n1r",
        "outputId": "3836c99e-1fee-447d-b7db-b79f1567296f"
      },
      "execution_count": 2,
      "outputs": [
        {
          "output_type": "stream",
          "name": "stdout",
          "text": [
            "Mounted at /content/drive\n"
          ]
        }
      ]
    },
    {
      "cell_type": "code",
      "source": [
        "import pandas as pd\n",
        "\n",
        "csv_path = '/content/drive/MyDrive/Task 5 - LSTM StockPricePrediction/yahoo_stock.csv'  # Change this path to match your file location\n",
        "\n",
        "# Step 3: Read the CSV file\n",
        "df = pd.read_csv(csv_path)\n"
      ],
      "metadata": {
        "id": "-0HyM7gpdXJY"
      },
      "execution_count": 3,
      "outputs": []
    },
    {
      "cell_type": "code",
      "source": [
        "#printing the first 5 elements\n",
        "df.head()"
      ],
      "metadata": {
        "colab": {
          "base_uri": "https://localhost:8080/",
          "height": 313
        },
        "id": "bJQJp6bkdhuy",
        "outputId": "f1294a69-25f2-4290-b295-c31394ed0b40"
      },
      "execution_count": 4,
      "outputs": [
        {
          "output_type": "execute_result",
          "data": {
            "text/plain": [
              "         Date         High          Low         Open        Close  \\\n",
              "0  2015-11-23  2095.610107  2081.389893  2089.409912  2086.590088   \n",
              "1  2015-11-24  2094.120117  2070.290039  2084.419922  2089.139893   \n",
              "2  2015-11-25  2093.000000  2086.300049  2089.300049  2088.870117   \n",
              "3  2015-11-26  2093.000000  2086.300049  2089.300049  2088.870117   \n",
              "4  2015-11-27  2093.290039  2084.129883  2088.820068  2090.110107   \n",
              "\n",
              "         Volume    Adj Close  \n",
              "0  3.587980e+09  2086.590088  \n",
              "1  3.884930e+09  2089.139893  \n",
              "2  2.852940e+09  2088.870117  \n",
              "3  2.852940e+09  2088.870117  \n",
              "4  1.466840e+09  2090.110107  "
            ],
            "text/html": [
              "\n",
              "  <div id=\"df-db0023ec-e205-4942-b3d5-3777e601f4e9\" class=\"colab-df-container\">\n",
              "    <div>\n",
              "<style scoped>\n",
              "    .dataframe tbody tr th:only-of-type {\n",
              "        vertical-align: middle;\n",
              "    }\n",
              "\n",
              "    .dataframe tbody tr th {\n",
              "        vertical-align: top;\n",
              "    }\n",
              "\n",
              "    .dataframe thead th {\n",
              "        text-align: right;\n",
              "    }\n",
              "</style>\n",
              "<table border=\"1\" class=\"dataframe\">\n",
              "  <thead>\n",
              "    <tr style=\"text-align: right;\">\n",
              "      <th></th>\n",
              "      <th>Date</th>\n",
              "      <th>High</th>\n",
              "      <th>Low</th>\n",
              "      <th>Open</th>\n",
              "      <th>Close</th>\n",
              "      <th>Volume</th>\n",
              "      <th>Adj Close</th>\n",
              "    </tr>\n",
              "  </thead>\n",
              "  <tbody>\n",
              "    <tr>\n",
              "      <th>0</th>\n",
              "      <td>2015-11-23</td>\n",
              "      <td>2095.610107</td>\n",
              "      <td>2081.389893</td>\n",
              "      <td>2089.409912</td>\n",
              "      <td>2086.590088</td>\n",
              "      <td>3.587980e+09</td>\n",
              "      <td>2086.590088</td>\n",
              "    </tr>\n",
              "    <tr>\n",
              "      <th>1</th>\n",
              "      <td>2015-11-24</td>\n",
              "      <td>2094.120117</td>\n",
              "      <td>2070.290039</td>\n",
              "      <td>2084.419922</td>\n",
              "      <td>2089.139893</td>\n",
              "      <td>3.884930e+09</td>\n",
              "      <td>2089.139893</td>\n",
              "    </tr>\n",
              "    <tr>\n",
              "      <th>2</th>\n",
              "      <td>2015-11-25</td>\n",
              "      <td>2093.000000</td>\n",
              "      <td>2086.300049</td>\n",
              "      <td>2089.300049</td>\n",
              "      <td>2088.870117</td>\n",
              "      <td>2.852940e+09</td>\n",
              "      <td>2088.870117</td>\n",
              "    </tr>\n",
              "    <tr>\n",
              "      <th>3</th>\n",
              "      <td>2015-11-26</td>\n",
              "      <td>2093.000000</td>\n",
              "      <td>2086.300049</td>\n",
              "      <td>2089.300049</td>\n",
              "      <td>2088.870117</td>\n",
              "      <td>2.852940e+09</td>\n",
              "      <td>2088.870117</td>\n",
              "    </tr>\n",
              "    <tr>\n",
              "      <th>4</th>\n",
              "      <td>2015-11-27</td>\n",
              "      <td>2093.290039</td>\n",
              "      <td>2084.129883</td>\n",
              "      <td>2088.820068</td>\n",
              "      <td>2090.110107</td>\n",
              "      <td>1.466840e+09</td>\n",
              "      <td>2090.110107</td>\n",
              "    </tr>\n",
              "  </tbody>\n",
              "</table>\n",
              "</div>\n",
              "    <div class=\"colab-df-buttons\">\n",
              "\n",
              "  <div class=\"colab-df-container\">\n",
              "    <button class=\"colab-df-convert\" onclick=\"convertToInteractive('df-db0023ec-e205-4942-b3d5-3777e601f4e9')\"\n",
              "            title=\"Convert this dataframe to an interactive table.\"\n",
              "            style=\"display:none;\">\n",
              "\n",
              "  <svg xmlns=\"http://www.w3.org/2000/svg\" height=\"24px\" viewBox=\"0 -960 960 960\">\n",
              "    <path d=\"M120-120v-720h720v720H120Zm60-500h600v-160H180v160Zm220 220h160v-160H400v160Zm0 220h160v-160H400v160ZM180-400h160v-160H180v160Zm440 0h160v-160H620v160ZM180-180h160v-160H180v160Zm440 0h160v-160H620v160Z\"/>\n",
              "  </svg>\n",
              "    </button>\n",
              "\n",
              "  <style>\n",
              "    .colab-df-container {\n",
              "      display:flex;\n",
              "      gap: 12px;\n",
              "    }\n",
              "\n",
              "    .colab-df-convert {\n",
              "      background-color: #E8F0FE;\n",
              "      border: none;\n",
              "      border-radius: 50%;\n",
              "      cursor: pointer;\n",
              "      display: none;\n",
              "      fill: #1967D2;\n",
              "      height: 32px;\n",
              "      padding: 0 0 0 0;\n",
              "      width: 32px;\n",
              "    }\n",
              "\n",
              "    .colab-df-convert:hover {\n",
              "      background-color: #E2EBFA;\n",
              "      box-shadow: 0px 1px 2px rgba(60, 64, 67, 0.3), 0px 1px 3px 1px rgba(60, 64, 67, 0.15);\n",
              "      fill: #174EA6;\n",
              "    }\n",
              "\n",
              "    .colab-df-buttons div {\n",
              "      margin-bottom: 4px;\n",
              "    }\n",
              "\n",
              "    [theme=dark] .colab-df-convert {\n",
              "      background-color: #3B4455;\n",
              "      fill: #D2E3FC;\n",
              "    }\n",
              "\n",
              "    [theme=dark] .colab-df-convert:hover {\n",
              "      background-color: #434B5C;\n",
              "      box-shadow: 0px 1px 3px 1px rgba(0, 0, 0, 0.15);\n",
              "      filter: drop-shadow(0px 1px 2px rgba(0, 0, 0, 0.3));\n",
              "      fill: #FFFFFF;\n",
              "    }\n",
              "  </style>\n",
              "\n",
              "    <script>\n",
              "      const buttonEl =\n",
              "        document.querySelector('#df-db0023ec-e205-4942-b3d5-3777e601f4e9 button.colab-df-convert');\n",
              "      buttonEl.style.display =\n",
              "        google.colab.kernel.accessAllowed ? 'block' : 'none';\n",
              "\n",
              "      async function convertToInteractive(key) {\n",
              "        const element = document.querySelector('#df-db0023ec-e205-4942-b3d5-3777e601f4e9');\n",
              "        const dataTable =\n",
              "          await google.colab.kernel.invokeFunction('convertToInteractive',\n",
              "                                                    [key], {});\n",
              "        if (!dataTable) return;\n",
              "\n",
              "        const docLinkHtml = 'Like what you see? Visit the ' +\n",
              "          '<a target=\"_blank\" href=https://colab.research.google.com/notebooks/data_table.ipynb>data table notebook</a>'\n",
              "          + ' to learn more about interactive tables.';\n",
              "        element.innerHTML = '';\n",
              "        dataTable['output_type'] = 'display_data';\n",
              "        await google.colab.output.renderOutput(dataTable, element);\n",
              "        const docLink = document.createElement('div');\n",
              "        docLink.innerHTML = docLinkHtml;\n",
              "        element.appendChild(docLink);\n",
              "      }\n",
              "    </script>\n",
              "  </div>\n",
              "\n",
              "\n",
              "    <div id=\"df-de23b2a2-90ca-46a5-aba8-d1e94db7f5c4\">\n",
              "      <button class=\"colab-df-quickchart\" onclick=\"quickchart('df-de23b2a2-90ca-46a5-aba8-d1e94db7f5c4')\"\n",
              "                title=\"Suggest charts\"\n",
              "                style=\"display:none;\">\n",
              "\n",
              "<svg xmlns=\"http://www.w3.org/2000/svg\" height=\"24px\"viewBox=\"0 0 24 24\"\n",
              "     width=\"24px\">\n",
              "    <g>\n",
              "        <path d=\"M19 3H5c-1.1 0-2 .9-2 2v14c0 1.1.9 2 2 2h14c1.1 0 2-.9 2-2V5c0-1.1-.9-2-2-2zM9 17H7v-7h2v7zm4 0h-2V7h2v10zm4 0h-2v-4h2v4z\"/>\n",
              "    </g>\n",
              "</svg>\n",
              "      </button>\n",
              "\n",
              "<style>\n",
              "  .colab-df-quickchart {\n",
              "      --bg-color: #E8F0FE;\n",
              "      --fill-color: #1967D2;\n",
              "      --hover-bg-color: #E2EBFA;\n",
              "      --hover-fill-color: #174EA6;\n",
              "      --disabled-fill-color: #AAA;\n",
              "      --disabled-bg-color: #DDD;\n",
              "  }\n",
              "\n",
              "  [theme=dark] .colab-df-quickchart {\n",
              "      --bg-color: #3B4455;\n",
              "      --fill-color: #D2E3FC;\n",
              "      --hover-bg-color: #434B5C;\n",
              "      --hover-fill-color: #FFFFFF;\n",
              "      --disabled-bg-color: #3B4455;\n",
              "      --disabled-fill-color: #666;\n",
              "  }\n",
              "\n",
              "  .colab-df-quickchart {\n",
              "    background-color: var(--bg-color);\n",
              "    border: none;\n",
              "    border-radius: 50%;\n",
              "    cursor: pointer;\n",
              "    display: none;\n",
              "    fill: var(--fill-color);\n",
              "    height: 32px;\n",
              "    padding: 0;\n",
              "    width: 32px;\n",
              "  }\n",
              "\n",
              "  .colab-df-quickchart:hover {\n",
              "    background-color: var(--hover-bg-color);\n",
              "    box-shadow: 0 1px 2px rgba(60, 64, 67, 0.3), 0 1px 3px 1px rgba(60, 64, 67, 0.15);\n",
              "    fill: var(--button-hover-fill-color);\n",
              "  }\n",
              "\n",
              "  .colab-df-quickchart-complete:disabled,\n",
              "  .colab-df-quickchart-complete:disabled:hover {\n",
              "    background-color: var(--disabled-bg-color);\n",
              "    fill: var(--disabled-fill-color);\n",
              "    box-shadow: none;\n",
              "  }\n",
              "\n",
              "  .colab-df-spinner {\n",
              "    border: 2px solid var(--fill-color);\n",
              "    border-color: transparent;\n",
              "    border-bottom-color: var(--fill-color);\n",
              "    animation:\n",
              "      spin 1s steps(1) infinite;\n",
              "  }\n",
              "\n",
              "  @keyframes spin {\n",
              "    0% {\n",
              "      border-color: transparent;\n",
              "      border-bottom-color: var(--fill-color);\n",
              "      border-left-color: var(--fill-color);\n",
              "    }\n",
              "    20% {\n",
              "      border-color: transparent;\n",
              "      border-left-color: var(--fill-color);\n",
              "      border-top-color: var(--fill-color);\n",
              "    }\n",
              "    30% {\n",
              "      border-color: transparent;\n",
              "      border-left-color: var(--fill-color);\n",
              "      border-top-color: var(--fill-color);\n",
              "      border-right-color: var(--fill-color);\n",
              "    }\n",
              "    40% {\n",
              "      border-color: transparent;\n",
              "      border-right-color: var(--fill-color);\n",
              "      border-top-color: var(--fill-color);\n",
              "    }\n",
              "    60% {\n",
              "      border-color: transparent;\n",
              "      border-right-color: var(--fill-color);\n",
              "    }\n",
              "    80% {\n",
              "      border-color: transparent;\n",
              "      border-right-color: var(--fill-color);\n",
              "      border-bottom-color: var(--fill-color);\n",
              "    }\n",
              "    90% {\n",
              "      border-color: transparent;\n",
              "      border-bottom-color: var(--fill-color);\n",
              "    }\n",
              "  }\n",
              "</style>\n",
              "\n",
              "      <script>\n",
              "        async function quickchart(key) {\n",
              "          const quickchartButtonEl =\n",
              "            document.querySelector('#' + key + ' button');\n",
              "          quickchartButtonEl.disabled = true;  // To prevent multiple clicks.\n",
              "          quickchartButtonEl.classList.add('colab-df-spinner');\n",
              "          try {\n",
              "            const charts = await google.colab.kernel.invokeFunction(\n",
              "                'suggestCharts', [key], {});\n",
              "          } catch (error) {\n",
              "            console.error('Error during call to suggestCharts:', error);\n",
              "          }\n",
              "          quickchartButtonEl.classList.remove('colab-df-spinner');\n",
              "          quickchartButtonEl.classList.add('colab-df-quickchart-complete');\n",
              "        }\n",
              "        (() => {\n",
              "          let quickchartButtonEl =\n",
              "            document.querySelector('#df-de23b2a2-90ca-46a5-aba8-d1e94db7f5c4 button');\n",
              "          quickchartButtonEl.style.display =\n",
              "            google.colab.kernel.accessAllowed ? 'block' : 'none';\n",
              "        })();\n",
              "      </script>\n",
              "    </div>\n",
              "\n",
              "    </div>\n",
              "  </div>\n"
            ],
            "application/vnd.google.colaboratory.intrinsic+json": {
              "type": "dataframe",
              "variable_name": "df",
              "summary": "{\n  \"name\": \"df\",\n  \"rows\": 1825,\n  \"fields\": [\n    {\n      \"column\": \"Date\",\n      \"properties\": {\n        \"dtype\": \"object\",\n        \"num_unique_values\": 1825,\n        \"samples\": [\n          \"2017-05-31\",\n          \"2020-09-01\",\n          \"2016-09-15\"\n        ],\n        \"semantic_type\": \"\",\n        \"description\": \"\"\n      }\n    },\n    {\n      \"column\": \"High\",\n      \"properties\": {\n        \"dtype\": \"number\",\n        \"std\": 409.680852925921,\n        \"min\": 1847.0,\n        \"max\": 3645.989990234375,\n        \"num_unique_values\": 1252,\n        \"samples\": [\n          2874.02001953125,\n          3486.25,\n          3136.719970703125\n        ],\n        \"semantic_type\": \"\",\n        \"description\": \"\"\n      }\n    },\n    {\n      \"column\": \"Low\",\n      \"properties\": {\n        \"dtype\": \"number\",\n        \"std\": 404.3100683842502,\n        \"min\": 1810.0999755859373,\n        \"max\": 3600.159912109375,\n        \"num_unique_values\": 1251,\n        \"samples\": [\n          2710.510009765625,\n          3557.0,\n          3034.3798828125\n        ],\n        \"semantic_type\": \"\",\n        \"description\": \"\"\n      }\n    },\n    {\n      \"column\": \"Open\",\n      \"properties\": {\n        \"dtype\": \"number\",\n        \"std\": 407.16999419082714,\n        \"min\": 1833.4000244140625,\n        \"max\": 3612.090087890625,\n        \"num_unique_values\": 1247,\n        \"samples\": [\n          2838.89990234375,\n          3071.0400390625,\n          2984.25\n        ],\n        \"semantic_type\": \"\",\n        \"description\": \"\"\n      }\n    },\n    {\n      \"column\": \"Close\",\n      \"properties\": {\n        \"dtype\": \"number\",\n        \"std\": 407.30117676380723,\n        \"min\": 1829.0799560546875,\n        \"max\": 3626.909912109375,\n        \"num_unique_values\": 1252,\n        \"samples\": [\n          2785.679931640625,\n          3443.43994140625,\n          3003.3701171875\n        ],\n        \"semantic_type\": \"\",\n        \"description\": \"\"\n      }\n    },\n    {\n      \"column\": \"Volume\",\n      \"properties\": {\n        \"dtype\": \"number\",\n        \"std\": 1087592837.8896692,\n        \"min\": 1296540000.0,\n        \"max\": 9044690000.0,\n        \"num_unique_values\": 1258,\n        \"samples\": [\n          3684910000.0,\n          4184880000.0,\n          5636460000.0\n        ],\n        \"semantic_type\": \"\",\n        \"description\": \"\"\n      }\n    },\n    {\n      \"column\": \"Adj Close\",\n      \"properties\": {\n        \"dtype\": \"number\",\n        \"std\": 407.30117676380723,\n        \"min\": 1829.0799560546875,\n        \"max\": 3626.909912109375,\n        \"num_unique_values\": 1252,\n        \"samples\": [\n          2785.679931640625,\n          3443.43994140625,\n          3003.3701171875\n        ],\n        \"semantic_type\": \"\",\n        \"description\": \"\"\n      }\n    }\n  ]\n}"
            }
          },
          "metadata": {},
          "execution_count": 4
        }
      ]
    },
    {
      "cell_type": "code",
      "source": [
        "#Shape of the dataset\n",
        "df.shape"
      ],
      "metadata": {
        "colab": {
          "base_uri": "https://localhost:8080/"
        },
        "id": "dlv7xkviGm37",
        "outputId": "7bf5bd66-2c74-4bf8-fdaa-5b90d256ed7f"
      },
      "execution_count": 5,
      "outputs": [
        {
          "output_type": "execute_result",
          "data": {
            "text/plain": [
              "(1825, 7)"
            ]
          },
          "metadata": {},
          "execution_count": 5
        }
      ]
    },
    {
      "cell_type": "code",
      "source": [
        "df1 = df.reset_index()['Close']\n",
        "df1.head()\n",
        "#df1.shape"
      ],
      "metadata": {
        "colab": {
          "base_uri": "https://localhost:8080/",
          "height": 241
        },
        "id": "khJiGS-ZHB-r",
        "outputId": "85949757-b102-48cb-d824-726acffeee02"
      },
      "execution_count": 6,
      "outputs": [
        {
          "output_type": "execute_result",
          "data": {
            "text/plain": [
              "0    2086.590088\n",
              "1    2089.139893\n",
              "2    2088.870117\n",
              "3    2088.870117\n",
              "4    2090.110107\n",
              "Name: Close, dtype: float64"
            ],
            "text/html": [
              "<div>\n",
              "<style scoped>\n",
              "    .dataframe tbody tr th:only-of-type {\n",
              "        vertical-align: middle;\n",
              "    }\n",
              "\n",
              "    .dataframe tbody tr th {\n",
              "        vertical-align: top;\n",
              "    }\n",
              "\n",
              "    .dataframe thead th {\n",
              "        text-align: right;\n",
              "    }\n",
              "</style>\n",
              "<table border=\"1\" class=\"dataframe\">\n",
              "  <thead>\n",
              "    <tr style=\"text-align: right;\">\n",
              "      <th></th>\n",
              "      <th>Close</th>\n",
              "    </tr>\n",
              "  </thead>\n",
              "  <tbody>\n",
              "    <tr>\n",
              "      <th>0</th>\n",
              "      <td>2086.590088</td>\n",
              "    </tr>\n",
              "    <tr>\n",
              "      <th>1</th>\n",
              "      <td>2089.139893</td>\n",
              "    </tr>\n",
              "    <tr>\n",
              "      <th>2</th>\n",
              "      <td>2088.870117</td>\n",
              "    </tr>\n",
              "    <tr>\n",
              "      <th>3</th>\n",
              "      <td>2088.870117</td>\n",
              "    </tr>\n",
              "    <tr>\n",
              "      <th>4</th>\n",
              "      <td>2090.110107</td>\n",
              "    </tr>\n",
              "  </tbody>\n",
              "</table>\n",
              "</div><br><label><b>dtype:</b> float64</label>"
            ]
          },
          "metadata": {},
          "execution_count": 6
        }
      ]
    },
    {
      "cell_type": "code",
      "source": [
        "#Visualizing the Close Column\n",
        "import matplotlib.pyplot as plt\n",
        "plt.plot(df1)"
      ],
      "metadata": {
        "colab": {
          "base_uri": "https://localhost:8080/",
          "height": 447
        },
        "id": "0js6ayYDIPpU",
        "outputId": "f6186ecc-bdf5-4c6a-a13d-9d248a33d64a"
      },
      "execution_count": 7,
      "outputs": [
        {
          "output_type": "execute_result",
          "data": {
            "text/plain": [
              "[<matplotlib.lines.Line2D at 0x7f4d73309f50>]"
            ]
          },
          "metadata": {},
          "execution_count": 7
        },
        {
          "output_type": "display_data",
          "data": {
            "text/plain": [
              "<Figure size 640x480 with 1 Axes>"
            ],
            "image/png": "[encoded data removed]"
          },
          "metadata": {}
        }
      ]
    },
    {
      "cell_type": "code",
      "source": [
        "##LSTM are sensitive to the scale of the data. SO we apply MinMax scaler\n",
        "import numpy as np\n",
        "from sklearn.preprocessing import MinMaxScaler\n",
        "scaler=MinMaxScaler(feature_range=(0,1))\n",
        "df1=scaler.fit_transform(np.array(df1).reshape(-1,1))\n",
        "df1.shape\n"
      ],
      "metadata": {
        "colab": {
          "base_uri": "https://localhost:8080/"
        },
        "id": "zod74oYMLCi0",
        "outputId": "725c3ca6-a934-4c25-acc8-ba1bd44b5206"
      },
      "execution_count": 8,
      "outputs": [
        {
          "output_type": "execute_result",
          "data": {
            "text/plain": [
              "(1825, 1)"
            ]
          },
          "metadata": {},
          "execution_count": 8
        }
      ]
    },
    {
      "cell_type": "code",
      "source": [
        "#After transfoming and scaling the close column displays as follows\n",
        "print(df1)"
      ],
      "metadata": {
        "colab": {
          "base_uri": "https://localhost:8080/"
        },
        "id": "V3aJ8um1LtZw",
        "outputId": "968c3b82-65f2-47d4-e7b8-4726d54ab7bd"
      },
      "execution_count": 9,
      "outputs": [
        {
          "output_type": "stream",
          "name": "stdout",
          "text": [
            "[[0.14323386]\n",
            " [0.14465213]\n",
            " [0.14450208]\n",
            " ...\n",
            " [0.96711598]\n",
            " [0.97494769]\n",
            " [0.96141466]]\n"
          ]
        }
      ]
    },
    {
      "cell_type": "markdown",
      "source": [
        "###Data Preprocessing"
      ],
      "metadata": {
        "id": "OfeXe50JNPvv"
      }
    },
    {
      "cell_type": "code",
      "source": [
        "#TrainTest-Split\n",
        "training_size=int(len(df1)*0.8)\n",
        "test_size=len(df1)-training_size\n",
        "train_data,test_data=df1[0:training_size,:],df1[training_size:len(df1),:1]"
      ],
      "metadata": {
        "id": "uCKcEb-xNTMb"
      },
      "execution_count": 10,
      "outputs": []
    },
    {
      "cell_type": "code",
      "source": [
        "training_size,test_size"
      ],
      "metadata": {
        "colab": {
          "base_uri": "https://localhost:8080/"
        },
        "id": "vzEF6-TgR_3j",
        "outputId": "d04b5bde-a7e7-408e-d09a-78da11f00385"
      },
      "execution_count": 11,
      "outputs": [
        {
          "output_type": "execute_result",
          "data": {
            "text/plain": [
              "(1460, 365)"
            ]
          },
          "metadata": {},
          "execution_count": 11
        }
      ]
    },
    {
      "cell_type": "code",
      "source": [
        "import numpy\n",
        "\n",
        "#convert an array of values into a dataset matrix\n",
        "def create_dataset(dataset, time_step=1):\n",
        "  dataX, dataY = [], []\n",
        "  for i in range(len(dataset)-time_step-1):\n",
        "    a = dataset[i:(i+time_step), 0]\n",
        "    dataX.append(a)\n",
        "    dataY.append(dataset[i + time_step,0])\n",
        "  return numpy.array(dataX), numpy.array(dataY)"
      ],
      "metadata": {
        "id": "Pe9ZqmXKSX41"
      },
      "execution_count": 12,
      "outputs": []
    },
    {
      "cell_type": "code",
      "source": [
        "#reshape into X=t,t+1,t+2,t+3 and Y=t+4\n",
        "timestep = 100\n",
        "X_train, y_train = create_dataset(train_data, timestep)\n",
        "X_test, y_test = create_dataset(test_data, timestep)"
      ],
      "metadata": {
        "id": "x423SEzbVy_t"
      },
      "execution_count": 13,
      "outputs": []
    },
    {
      "cell_type": "code",
      "source": [
        "print(X_train.shape)"
      ],
      "metadata": {
        "colab": {
          "base_uri": "https://localhost:8080/"
        },
        "id": "gP5Y4L1uYLc6",
        "outputId": "1fe385c7-75be-4607-ef7a-5490f3e1235b"
      },
      "execution_count": 14,
      "outputs": [
        {
          "output_type": "stream",
          "name": "stdout",
          "text": [
            "(1359, 100)\n"
          ]
        }
      ]
    },
    {
      "cell_type": "code",
      "source": [
        "# reshape input to be [samples, time steps, features] which is required for LSTM\n",
        "X_train =X_train.reshape(X_train.shape[0],X_train.shape[1] , 1)\n",
        "X_test = X_test.reshape(X_test.shape[0],X_test.shape[1] , 1)"
      ],
      "metadata": {
        "id": "daqz0tSSeHLj"
      },
      "execution_count": 15,
      "outputs": []
    },
    {
      "cell_type": "markdown",
      "source": [
        "###Create Stack Lstm Model"
      ],
      "metadata": {
        "id": "T6jE1jcXdvOv"
      }
    },
    {
      "cell_type": "code",
      "source": [
        "### Create the Stacked LSTM model\n",
        "from tensorflow.keras.models import Sequential\n",
        "from tensorflow.keras.layers import Dense\n",
        "from tensorflow.keras.layers import LSTM\n",
        "\n",
        "model=Sequential()\n",
        "model.add(LSTM(50,return_sequences=True,input_shape=(100,1)))\n",
        "model.add(LSTM(50,return_sequences=True))\n",
        "model.add(LSTM(50))\n",
        "model.add(Dense(1))\n",
        "model.compile(loss='mean_squared_error',optimizer='adam')"
      ],
      "metadata": {
        "colab": {
          "base_uri": "https://localhost:8080/"
        },
        "id": "0gy1WoLbdxbj",
        "outputId": "42a9afa1-fd8c-412d-8709-24a6c8edc5b2"
      },
      "execution_count": 16,
      "outputs": [
        {
          "output_type": "stream",
          "name": "stderr",
          "text": [
            "/usr/local/lib/python3.11/dist-packages/keras/src/layers/rnn/rnn.py:200: UserWarning: Do not pass an `input_shape`/`input_dim` argument to a layer. When using Sequential models, prefer using an `Input(shape)` object as the first layer in the model instead.\n",
            "  super().__init__(**kwargs)\n"
          ]
        }
      ]
    },
    {
      "cell_type": "code",
      "source": [
        "model.summary()"
      ],
      "metadata": {
        "colab": {
          "base_uri": "https://localhost:8080/",
          "height": 257
        },
        "id": "D_mTAchsgs5z",
        "outputId": "2d60d087-b48f-4702-ce49-908b6afc00ef"
      },
      "execution_count": 17,
      "outputs": [
        {
          "output_type": "display_data",
          "data": {
            "text/plain": [
              "\u001b[1mModel: \"sequential\"\u001b[0m\n"
            ],
            "text/html": [
              "<pre style=\"white-space:pre;overflow-x:auto;line-height:normal;font-family:Menlo,'DejaVu Sans Mono',consolas,'Courier New',monospace\"><span style=\"font-weight: bold\">Model: \"sequential\"</span>\n",
              "</pre>\n"
            ]
          },
          "metadata": {}
        },
        {
          "output_type": "display_data",
          "data": {
            "text/plain": [
              "┏━━━━━━━━━━━━━━━━━━━━━━━━━━━━━━━━━┳━━━━━━━━━━━━━━━━━━━━━━━━┳━━━━━━━━━━━━━━━┓\n",
              "┃\u001b[1m \u001b[0m\u001b[1mLayer (type)                   \u001b[0m\u001b[1m \u001b[0m┃\u001b[1m \u001b[0m\u001b[1mOutput Shape          \u001b[0m\u001b[1m \u001b[0m┃\u001b[1m \u001b[0m\u001b[1m      Param #\u001b[0m\u001b[1m \u001b[0m┃\n",
              "┡━━━━━━━━━━━━━━━━━━━━━━━━━━━━━━━━━╇━━━━━━━━━━━━━━━━━━━━━━━━╇━━━━━━━━━━━━━━━┩\n",
              "│ lstm (\u001b[38;5;33mLSTM\u001b[0m)                     │ (\u001b[38;5;45mNone\u001b[0m, \u001b[38;5;34m100\u001b[0m, \u001b[38;5;34m50\u001b[0m)        │        \u001b[38;5;34m10,400\u001b[0m │\n",
              "├─────────────────────────────────┼────────────────────────┼───────────────┤\n",
              "│ lstm_1 (\u001b[38;5;33mLSTM\u001b[0m)                   │ (\u001b[38;5;45mNone\u001b[0m, \u001b[38;5;34m100\u001b[0m, \u001b[38;5;34m50\u001b[0m)        │        \u001b[38;5;34m20,200\u001b[0m │\n",
              "├─────────────────────────────────┼────────────────────────┼───────────────┤\n",
              "│ lstm_2 (\u001b[38;5;33mLSTM\u001b[0m)                   │ (\u001b[38;5;45mNone\u001b[0m, \u001b[38;5;34m50\u001b[0m)             │        \u001b[38;5;34m20,200\u001b[0m │\n",
              "├─────────────────────────────────┼────────────────────────┼───────────────┤\n",
              "│ dense (\u001b[38;5;33mDense\u001b[0m)                   │ (\u001b[38;5;45mNone\u001b[0m, \u001b[38;5;34m1\u001b[0m)              │            \u001b[38;5;34m51\u001b[0m │\n",
              "└─────────────────────────────────┴────────────────────────┴───────────────┘\n"
            ],
            "text/html": [
              "<pre style=\"white-space:pre;overflow-x:auto;line-height:normal;font-family:Menlo,'DejaVu Sans Mono',consolas,'Courier New',monospace\">┏━━━━━━━━━━━━━━━━━━━━━━━━━━━━━━━━━┳━━━━━━━━━━━━━━━━━━━━━━━━┳━━━━━━━━━━━━━━━┓\n",
              "┃<span style=\"font-weight: bold\"> Layer (type)                    </span>┃<span style=\"font-weight: bold\"> Output Shape           </span>┃<span style=\"font-weight: bold\">       Param # </span>┃\n",
              "┡━━━━━━━━━━━━━━━━━━━━━━━━━━━━━━━━━╇━━━━━━━━━━━━━━━━━━━━━━━━╇━━━━━━━━━━━━━━━┩\n",
              "│ lstm (<span style=\"color: #0087ff; text-decoration-color: #0087ff\">LSTM</span>)                     │ (<span style=\"color: #00d7ff; text-decoration-color: #00d7ff\">None</span>, <span style=\"color: #00af00; text-decoration-color: #00af00\">100</span>, <span style=\"color: #00af00; text-decoration-color: #00af00\">50</span>)        │        <span style=\"color: #00af00; text-decoration-color: #00af00\">10,400</span> │\n",
              "├─────────────────────────────────┼────────────────────────┼───────────────┤\n",
              "│ lstm_1 (<span style=\"color: #0087ff; text-decoration-color: #0087ff\">LSTM</span>)                   │ (<span style=\"color: #00d7ff; text-decoration-color: #00d7ff\">None</span>, <span style=\"color: #00af00; text-decoration-color: #00af00\">100</span>, <span style=\"color: #00af00; text-decoration-color: #00af00\">50</span>)        │        <span style=\"color: #00af00; text-decoration-color: #00af00\">20,200</span> │\n",
              "├─────────────────────────────────┼────────────────────────┼───────────────┤\n",
              "│ lstm_2 (<span style=\"color: #0087ff; text-decoration-color: #0087ff\">LSTM</span>)                   │ (<span style=\"color: #00d7ff; text-decoration-color: #00d7ff\">None</span>, <span style=\"color: #00af00; text-decoration-color: #00af00\">50</span>)             │        <span style=\"color: #00af00; text-decoration-color: #00af00\">20,200</span> │\n",
              "├─────────────────────────────────┼────────────────────────┼───────────────┤\n",
              "│ dense (<span style=\"color: #0087ff; text-decoration-color: #0087ff\">Dense</span>)                   │ (<span style=\"color: #00d7ff; text-decoration-color: #00d7ff\">None</span>, <span style=\"color: #00af00; text-decoration-color: #00af00\">1</span>)              │            <span style=\"color: #00af00; text-decoration-color: #00af00\">51</span> │\n",
              "└─────────────────────────────────┴────────────────────────┴───────────────┘\n",
              "</pre>\n"
            ]
          },
          "metadata": {}
        },
        {
          "output_type": "display_data",
          "data": {
            "text/plain": [
              "\u001b[1m Total params: \u001b[0m\u001b[38;5;34m50,851\u001b[0m (198.64 KB)\n"
            ],
            "text/html": [
              "<pre style=\"white-space:pre;overflow-x:auto;line-height:normal;font-family:Menlo,'DejaVu Sans Mono',consolas,'Courier New',monospace\"><span style=\"font-weight: bold\"> Total params: </span><span style=\"color: #00af00; text-decoration-color: #00af00\">50,851</span> (198.64 KB)\n",
              "</pre>\n"
            ]
          },
          "metadata": {}
        },
        {
          "output_type": "display_data",
          "data": {
            "text/plain": [
              "\u001b[1m Trainable params: \u001b[0m\u001b[38;5;34m50,851\u001b[0m (198.64 KB)\n"
            ],
            "text/html": [
              "<pre style=\"white-space:pre;overflow-x:auto;line-height:normal;font-family:Menlo,'DejaVu Sans Mono',consolas,'Courier New',monospace\"><span style=\"font-weight: bold\"> Trainable params: </span><span style=\"color: #00af00; text-decoration-color: #00af00\">50,851</span> (198.64 KB)\n",
              "</pre>\n"
            ]
          },
          "metadata": {}
        },
        {
          "output_type": "display_data",
          "data": {
            "text/plain": [
              "\u001b[1m Non-trainable params: \u001b[0m\u001b[38;5;34m0\u001b[0m (0.00 B)\n"
            ],
            "text/html": [
              "<pre style=\"white-space:pre;overflow-x:auto;line-height:normal;font-family:Menlo,'DejaVu Sans Mono',consolas,'Courier New',monospace\"><span style=\"font-weight: bold\"> Non-trainable params: </span><span style=\"color: #00af00; text-decoration-color: #00af00\">0</span> (0.00 B)\n",
              "</pre>\n"
            ]
          },
          "metadata": {}
        }
      ]
    },
    {
      "cell_type": "code",
      "source": [
        "model.fit(X_train,y_train,validation_data=(X_test,y_test),epochs=100,batch_size=64,verbose=1)"
      ],
      "metadata": {
        "colab": {
          "base_uri": "https://localhost:8080/"
        },
        "id": "3yUIIlWygz1N",
        "outputId": "d1ae6473-f248-4dcb-c12b-088f45bb2ba8"
      },
      "execution_count": 18,
      "outputs": [
        {
          "output_type": "stream",
          "name": "stdout",
          "text": [
            "Epoch 1/100\n",
            "\u001b[1m22/22\u001b[0m \u001b[32m━━━━━━━━━━━━━━━━━━━━\u001b[0m\u001b[37m\u001b[0m \u001b[1m11s\u001b[0m 243ms/step - loss: 0.0792 - val_loss: 0.0125\n",
            "Epoch 2/100\n",
            "\u001b[1m22/22\u001b[0m \u001b[32m━━━━━━━━━━━━━━━━━━━━\u001b[0m\u001b[37m\u001b[0m \u001b[1m9s\u001b[0m 170ms/step - loss: 0.0037 - val_loss: 0.0101\n",
            "Epoch 3/100\n",
            "\u001b[1m22/22\u001b[0m \u001b[32m━━━━━━━━━━━━━━━━━━━━\u001b[0m\u001b[37m\u001b[0m \u001b[1m5s\u001b[0m 170ms/step - loss: 9.6241e-04 - val_loss: 0.0091\n",
            "Epoch 4/100\n",
            "\u001b[1m22/22\u001b[0m \u001b[32m━━━━━━━━━━━━━━━━━━━━\u001b[0m\u001b[37m\u001b[0m \u001b[1m5s\u001b[0m 166ms/step - loss: 7.9506e-04 - val_loss: 0.0083\n",
            "Epoch 5/100\n",
            "\u001b[1m22/22\u001b[0m \u001b[32m━━━━━━━━━━━━━━━━━━━━\u001b[0m\u001b[37m\u001b[0m \u001b[1m4s\u001b[0m 168ms/step - loss: 6.9418e-04 - val_loss: 0.0085\n",
            "Epoch 6/100\n",
            "\u001b[1m22/22\u001b[0m \u001b[32m━━━━━━━━━━━━━━━━━━━━\u001b[0m\u001b[37m\u001b[0m \u001b[1m5s\u001b[0m 156ms/step - loss: 6.4389e-04 - val_loss: 0.0080\n",
            "Epoch 7/100\n",
            "\u001b[1m22/22\u001b[0m \u001b[32m━━━━━━━━━━━━━━━━━━━━\u001b[0m\u001b[37m\u001b[0m \u001b[1m5s\u001b[0m 147ms/step - loss: 6.9429e-04 - val_loss: 0.0075\n",
            "Epoch 8/100\n",
            "\u001b[1m22/22\u001b[0m \u001b[32m━━━━━━━━━━━━━━━━━━━━\u001b[0m\u001b[37m\u001b[0m \u001b[1m4s\u001b[0m 174ms/step - loss: 7.1112e-04 - val_loss: 0.0085\n",
            "Epoch 9/100\n",
            "\u001b[1m22/22\u001b[0m \u001b[32m━━━━━━━━━━━━━━━━━━━━\u001b[0m\u001b[37m\u001b[0m \u001b[1m4s\u001b[0m 144ms/step - loss: 6.9023e-04 - val_loss: 0.0078\n",
            "Epoch 10/100\n",
            "\u001b[1m22/22\u001b[0m \u001b[32m━━━━━━━━━━━━━━━━━━━━\u001b[0m\u001b[37m\u001b[0m \u001b[1m5s\u001b[0m 146ms/step - loss: 7.1474e-04 - val_loss: 0.0068\n",
            "Epoch 11/100\n",
            "\u001b[1m22/22\u001b[0m \u001b[32m━━━━━━━━━━━━━━━━━━━━\u001b[0m\u001b[37m\u001b[0m \u001b[1m4s\u001b[0m 191ms/step - loss: 6.5532e-04 - val_loss: 0.0067\n",
            "Epoch 12/100\n",
            "\u001b[1m22/22\u001b[0m \u001b[32m━━━━━━━━━━━━━━━━━━━━\u001b[0m\u001b[37m\u001b[0m \u001b[1m4s\u001b[0m 146ms/step - loss: 6.6425e-04 - val_loss: 0.0072\n",
            "Epoch 13/100\n",
            "\u001b[1m22/22\u001b[0m \u001b[32m━━━━━━━━━━━━━━━━━━━━\u001b[0m\u001b[37m\u001b[0m \u001b[1m5s\u001b[0m 146ms/step - loss: 6.2493e-04 - val_loss: 0.0067\n",
            "Epoch 14/100\n",
            "\u001b[1m22/22\u001b[0m \u001b[32m━━━━━━━━━━━━━━━━━━━━\u001b[0m\u001b[37m\u001b[0m \u001b[1m6s\u001b[0m 205ms/step - loss: 6.1027e-04 - val_loss: 0.0061\n",
            "Epoch 15/100\n",
            "\u001b[1m22/22\u001b[0m \u001b[32m━━━━━━━━━━━━━━━━━━━━\u001b[0m\u001b[37m\u001b[0m \u001b[1m4s\u001b[0m 143ms/step - loss: 6.2206e-04 - val_loss: 0.0057\n",
            "Epoch 16/100\n",
            "\u001b[1m22/22\u001b[0m \u001b[32m━━━━━━━━━━━━━━━━━━━━\u001b[0m\u001b[37m\u001b[0m \u001b[1m3s\u001b[0m 146ms/step - loss: 6.1333e-04 - val_loss: 0.0057\n",
            "Epoch 17/100\n",
            "\u001b[1m22/22\u001b[0m \u001b[32m━━━━━━━━━━━━━━━━━━━━\u001b[0m\u001b[37m\u001b[0m \u001b[1m4s\u001b[0m 182ms/step - loss: 6.0137e-04 - val_loss: 0.0055\n",
            "Epoch 18/100\n",
            "\u001b[1m22/22\u001b[0m \u001b[32m━━━━━━━━━━━━━━━━━━━━\u001b[0m\u001b[37m\u001b[0m \u001b[1m4s\u001b[0m 171ms/step - loss: 5.7147e-04 - val_loss: 0.0051\n",
            "Epoch 19/100\n",
            "\u001b[1m22/22\u001b[0m \u001b[32m━━━━━━━━━━━━━━━━━━━━\u001b[0m\u001b[37m\u001b[0m \u001b[1m5s\u001b[0m 151ms/step - loss: 5.8661e-04 - val_loss: 0.0053\n",
            "Epoch 20/100\n",
            "\u001b[1m22/22\u001b[0m \u001b[32m━━━━━━━━━━━━━━━━━━━━\u001b[0m\u001b[37m\u001b[0m \u001b[1m3s\u001b[0m 142ms/step - loss: 5.1138e-04 - val_loss: 0.0055\n",
            "Epoch 21/100\n",
            "\u001b[1m22/22\u001b[0m \u001b[32m━━━━━━━━━━━━━━━━━━━━\u001b[0m\u001b[37m\u001b[0m \u001b[1m6s\u001b[0m 159ms/step - loss: 5.6242e-04 - val_loss: 0.0047\n",
            "Epoch 22/100\n",
            "\u001b[1m22/22\u001b[0m \u001b[32m━━━━━━━━━━━━━━━━━━━━\u001b[0m\u001b[37m\u001b[0m \u001b[1m3s\u001b[0m 146ms/step - loss: 5.1551e-04 - val_loss: 0.0059\n",
            "Epoch 23/100\n",
            "\u001b[1m22/22\u001b[0m \u001b[32m━━━━━━━━━━━━━━━━━━━━\u001b[0m\u001b[37m\u001b[0m \u001b[1m3s\u001b[0m 147ms/step - loss: 5.4798e-04 - val_loss: 0.0052\n",
            "Epoch 24/100\n",
            "\u001b[1m22/22\u001b[0m \u001b[32m━━━━━━━━━━━━━━━━━━━━\u001b[0m\u001b[37m\u001b[0m \u001b[1m5s\u001b[0m 227ms/step - loss: 4.9479e-04 - val_loss: 0.0040\n",
            "Epoch 25/100\n",
            "\u001b[1m22/22\u001b[0m \u001b[32m━━━━━━━━━━━━━━━━━━━━\u001b[0m\u001b[37m\u001b[0m \u001b[1m3s\u001b[0m 146ms/step - loss: 5.2826e-04 - val_loss: 0.0041\n",
            "Epoch 26/100\n",
            "\u001b[1m22/22\u001b[0m \u001b[32m━━━━━━━━━━━━━━━━━━━━\u001b[0m\u001b[37m\u001b[0m \u001b[1m5s\u001b[0m 142ms/step - loss: 4.7195e-04 - val_loss: 0.0051\n",
            "Epoch 27/100\n",
            "\u001b[1m22/22\u001b[0m \u001b[32m━━━━━━━━━━━━━━━━━━━━\u001b[0m\u001b[37m\u001b[0m \u001b[1m6s\u001b[0m 202ms/step - loss: 5.9308e-04 - val_loss: 0.0059\n",
            "Epoch 28/100\n",
            "\u001b[1m22/22\u001b[0m \u001b[32m━━━━━━━━━━━━━━━━━━━━\u001b[0m\u001b[37m\u001b[0m \u001b[1m3s\u001b[0m 147ms/step - loss: 5.0551e-04 - val_loss: 0.0040\n",
            "Epoch 29/100\n",
            "\u001b[1m22/22\u001b[0m \u001b[32m━━━━━━━━━━━━━━━━━━━━\u001b[0m\u001b[37m\u001b[0m \u001b[1m5s\u001b[0m 146ms/step - loss: 4.3345e-04 - val_loss: 0.0047\n",
            "Epoch 30/100\n",
            "\u001b[1m22/22\u001b[0m \u001b[32m━━━━━━━━━━━━━━━━━━━━\u001b[0m\u001b[37m\u001b[0m \u001b[1m5s\u001b[0m 223ms/step - loss: 4.6264e-04 - val_loss: 0.0035\n",
            "Epoch 31/100\n",
            "\u001b[1m22/22\u001b[0m \u001b[32m━━━━━━━━━━━━━━━━━━━━\u001b[0m\u001b[37m\u001b[0m \u001b[1m3s\u001b[0m 141ms/step - loss: 4.2890e-04 - val_loss: 0.0030\n",
            "Epoch 32/100\n",
            "\u001b[1m22/22\u001b[0m \u001b[32m━━━━━━━━━━━━━━━━━━━━\u001b[0m\u001b[37m\u001b[0m \u001b[1m5s\u001b[0m 141ms/step - loss: 3.9858e-04 - val_loss: 0.0031\n",
            "Epoch 33/100\n",
            "\u001b[1m22/22\u001b[0m \u001b[32m━━━━━━━━━━━━━━━━━━━━\u001b[0m\u001b[37m\u001b[0m \u001b[1m4s\u001b[0m 200ms/step - loss: 4.2222e-04 - val_loss: 0.0035\n",
            "Epoch 34/100\n",
            "\u001b[1m22/22\u001b[0m \u001b[32m━━━━━━━━━━━━━━━━━━━━\u001b[0m\u001b[37m\u001b[0m \u001b[1m4s\u001b[0m 143ms/step - loss: 4.1248e-04 - val_loss: 0.0029\n",
            "Epoch 35/100\n",
            "\u001b[1m22/22\u001b[0m \u001b[32m━━━━━━━━━━━━━━━━━━━━\u001b[0m\u001b[37m\u001b[0m \u001b[1m3s\u001b[0m 141ms/step - loss: 3.3924e-04 - val_loss: 0.0030\n",
            "Epoch 36/100\n",
            "\u001b[1m22/22\u001b[0m \u001b[32m━━━━━━━━━━━━━━━━━━━━\u001b[0m\u001b[37m\u001b[0m \u001b[1m6s\u001b[0m 190ms/step - loss: 3.9186e-04 - val_loss: 0.0027\n",
            "Epoch 37/100\n",
            "\u001b[1m22/22\u001b[0m \u001b[32m━━━━━━━━━━━━━━━━━━━━\u001b[0m\u001b[37m\u001b[0m \u001b[1m4s\u001b[0m 141ms/step - loss: 3.4596e-04 - val_loss: 0.0027\n",
            "Epoch 38/100\n",
            "\u001b[1m22/22\u001b[0m \u001b[32m━━━━━━━━━━━━━━━━━━━━\u001b[0m\u001b[37m\u001b[0m \u001b[1m5s\u001b[0m 147ms/step - loss: 3.4780e-04 - val_loss: 0.0027\n",
            "Epoch 39/100\n",
            "\u001b[1m22/22\u001b[0m \u001b[32m━━━━━━━━━━━━━━━━━━━━\u001b[0m\u001b[37m\u001b[0m \u001b[1m6s\u001b[0m 203ms/step - loss: 4.1073e-04 - val_loss: 0.0031\n",
            "Epoch 40/100\n",
            "\u001b[1m22/22\u001b[0m \u001b[32m━━━━━━━━━━━━━━━━━━━━\u001b[0m\u001b[37m\u001b[0m \u001b[1m4s\u001b[0m 148ms/step - loss: 3.5858e-04 - val_loss: 0.0027\n",
            "Epoch 41/100\n",
            "\u001b[1m22/22\u001b[0m \u001b[32m━━━━━━━━━━━━━━━━━━━━\u001b[0m\u001b[37m\u001b[0m \u001b[1m5s\u001b[0m 152ms/step - loss: 3.5299e-04 - val_loss: 0.0034\n",
            "Epoch 42/100\n",
            "\u001b[1m22/22\u001b[0m \u001b[32m━━━━━━━━━━━━━━━━━━━━\u001b[0m\u001b[37m\u001b[0m \u001b[1m5s\u001b[0m 204ms/step - loss: 3.8723e-04 - val_loss: 0.0029\n",
            "Epoch 43/100\n",
            "\u001b[1m22/22\u001b[0m \u001b[32m━━━━━━━━━━━━━━━━━━━━\u001b[0m\u001b[37m\u001b[0m \u001b[1m4s\u001b[0m 143ms/step - loss: 3.3925e-04 - val_loss: 0.0029\n",
            "Epoch 44/100\n",
            "\u001b[1m22/22\u001b[0m \u001b[32m━━━━━━━━━━━━━━━━━━━━\u001b[0m\u001b[37m\u001b[0m \u001b[1m5s\u001b[0m 149ms/step - loss: 3.7698e-04 - val_loss: 0.0026\n",
            "Epoch 45/100\n",
            "\u001b[1m22/22\u001b[0m \u001b[32m━━━━━━━━━━━━━━━━━━━━\u001b[0m\u001b[37m\u001b[0m \u001b[1m5s\u001b[0m 154ms/step - loss: 4.5791e-04 - val_loss: 0.0033\n",
            "Epoch 46/100\n",
            "\u001b[1m22/22\u001b[0m \u001b[32m━━━━━━━━━━━━━━━━━━━━\u001b[0m\u001b[37m\u001b[0m \u001b[1m3s\u001b[0m 148ms/step - loss: 3.0744e-04 - val_loss: 0.0030\n",
            "Epoch 47/100\n",
            "\u001b[1m22/22\u001b[0m \u001b[32m━━━━━━━━━━━━━━━━━━━━\u001b[0m\u001b[37m\u001b[0m \u001b[1m6s\u001b[0m 183ms/step - loss: 3.3293e-04 - val_loss: 0.0025\n",
            "Epoch 48/100\n",
            "\u001b[1m22/22\u001b[0m \u001b[32m━━━━━━━━━━━━━━━━━━━━\u001b[0m\u001b[37m\u001b[0m \u001b[1m4s\u001b[0m 177ms/step - loss: 3.3398e-04 - val_loss: 0.0030\n",
            "Epoch 49/100\n",
            "\u001b[1m22/22\u001b[0m \u001b[32m━━━━━━━━━━━━━━━━━━━━\u001b[0m\u001b[37m\u001b[0m \u001b[1m4s\u001b[0m 148ms/step - loss: 3.5741e-04 - val_loss: 0.0028\n",
            "Epoch 50/100\n",
            "\u001b[1m22/22\u001b[0m \u001b[32m━━━━━━━━━━━━━━━━━━━━\u001b[0m\u001b[37m\u001b[0m \u001b[1m6s\u001b[0m 194ms/step - loss: 3.3228e-04 - val_loss: 0.0024\n",
            "Epoch 51/100\n",
            "\u001b[1m22/22\u001b[0m \u001b[32m━━━━━━━━━━━━━━━━━━━━\u001b[0m\u001b[37m\u001b[0m \u001b[1m4s\u001b[0m 146ms/step - loss: 4.1430e-04 - val_loss: 0.0027\n",
            "Epoch 52/100\n",
            "\u001b[1m22/22\u001b[0m \u001b[32m━━━━━━━━━━━━━━━━━━━━\u001b[0m\u001b[37m\u001b[0m \u001b[1m5s\u001b[0m 147ms/step - loss: 3.9177e-04 - val_loss: 0.0025\n",
            "Epoch 53/100\n",
            "\u001b[1m22/22\u001b[0m \u001b[32m━━━━━━━━━━━━━━━━━━━━\u001b[0m\u001b[37m\u001b[0m \u001b[1m4s\u001b[0m 187ms/step - loss: 2.8043e-04 - val_loss: 0.0025\n",
            "Epoch 54/100\n",
            "\u001b[1m22/22\u001b[0m \u001b[32m━━━━━━━━━━━━━━━━━━━━\u001b[0m\u001b[37m\u001b[0m \u001b[1m4s\u001b[0m 147ms/step - loss: 2.8933e-04 - val_loss: 0.0033\n",
            "Epoch 55/100\n",
            "\u001b[1m22/22\u001b[0m \u001b[32m━━━━━━━━━━━━━━━━━━━━\u001b[0m\u001b[37m\u001b[0m \u001b[1m5s\u001b[0m 142ms/step - loss: 3.0879e-04 - val_loss: 0.0022\n",
            "Epoch 56/100\n",
            "\u001b[1m22/22\u001b[0m \u001b[32m━━━━━━━━━━━━━━━━━━━━\u001b[0m\u001b[37m\u001b[0m \u001b[1m6s\u001b[0m 203ms/step - loss: 2.8482e-04 - val_loss: 0.0023\n",
            "Epoch 57/100\n",
            "\u001b[1m22/22\u001b[0m \u001b[32m━━━━━━━━━━━━━━━━━━━━\u001b[0m\u001b[37m\u001b[0m \u001b[1m3s\u001b[0m 146ms/step - loss: 2.6079e-04 - val_loss: 0.0022\n",
            "Epoch 58/100\n",
            "\u001b[1m22/22\u001b[0m \u001b[32m━━━━━━━━━━━━━━━━━━━━\u001b[0m\u001b[37m\u001b[0m \u001b[1m5s\u001b[0m 142ms/step - loss: 2.5592e-04 - val_loss: 0.0021\n",
            "Epoch 59/100\n",
            "\u001b[1m22/22\u001b[0m \u001b[32m━━━━━━━━━━━━━━━━━━━━\u001b[0m\u001b[37m\u001b[0m \u001b[1m5s\u001b[0m 223ms/step - loss: 2.7283e-04 - val_loss: 0.0020\n",
            "Epoch 60/100\n",
            "\u001b[1m22/22\u001b[0m \u001b[32m━━━━━━━━━━━━━━━━━━━━\u001b[0m\u001b[37m\u001b[0m \u001b[1m3s\u001b[0m 144ms/step - loss: 2.3767e-04 - val_loss: 0.0022\n",
            "Epoch 61/100\n",
            "\u001b[1m22/22\u001b[0m \u001b[32m━━━━━━━━━━━━━━━━━━━━\u001b[0m\u001b[37m\u001b[0m \u001b[1m5s\u001b[0m 149ms/step - loss: 2.5323e-04 - val_loss: 0.0019\n",
            "Epoch 62/100\n",
            "\u001b[1m22/22\u001b[0m \u001b[32m━━━━━━━━━━━━━━━━━━━━\u001b[0m\u001b[37m\u001b[0m \u001b[1m6s\u001b[0m 186ms/step - loss: 2.5602e-04 - val_loss: 0.0019\n",
            "Epoch 63/100\n",
            "\u001b[1m22/22\u001b[0m \u001b[32m━━━━━━━━━━━━━━━━━━━━\u001b[0m\u001b[37m\u001b[0m \u001b[1m3s\u001b[0m 143ms/step - loss: 2.7440e-04 - val_loss: 0.0032\n",
            "Epoch 64/100\n",
            "\u001b[1m22/22\u001b[0m \u001b[32m━━━━━━━━━━━━━━━━━━━━\u001b[0m\u001b[37m\u001b[0m \u001b[1m3s\u001b[0m 147ms/step - loss: 3.1148e-04 - val_loss: 0.0021\n",
            "Epoch 65/100\n",
            "\u001b[1m22/22\u001b[0m \u001b[32m━━━━━━━━━━━━━━━━━━━━\u001b[0m\u001b[37m\u001b[0m \u001b[1m4s\u001b[0m 178ms/step - loss: 2.0823e-04 - val_loss: 0.0018\n",
            "Epoch 66/100\n",
            "\u001b[1m22/22\u001b[0m \u001b[32m━━━━━━━━━━━━━━━━━━━━\u001b[0m\u001b[37m\u001b[0m \u001b[1m4s\u001b[0m 174ms/step - loss: 2.9521e-04 - val_loss: 0.0021\n",
            "Epoch 67/100\n",
            "\u001b[1m22/22\u001b[0m \u001b[32m━━━━━━━━━━━━━━━━━━━━\u001b[0m\u001b[37m\u001b[0m \u001b[1m4s\u001b[0m 145ms/step - loss: 3.1947e-04 - val_loss: 0.0018\n",
            "Epoch 68/100\n",
            "\u001b[1m22/22\u001b[0m \u001b[32m━━━━━━━━━━━━━━━━━━━━\u001b[0m\u001b[37m\u001b[0m \u001b[1m3s\u001b[0m 142ms/step - loss: 2.1785e-04 - val_loss: 0.0016\n",
            "Epoch 69/100\n",
            "\u001b[1m22/22\u001b[0m \u001b[32m━━━━━━━━━━━━━━━━━━━━\u001b[0m\u001b[37m\u001b[0m \u001b[1m6s\u001b[0m 171ms/step - loss: 2.3555e-04 - val_loss: 0.0021\n",
            "Epoch 70/100\n",
            "\u001b[1m22/22\u001b[0m \u001b[32m━━━━━━━━━━━━━━━━━━━━\u001b[0m\u001b[37m\u001b[0m \u001b[1m4s\u001b[0m 144ms/step - loss: 2.2588e-04 - val_loss: 0.0016\n",
            "Epoch 71/100\n",
            "\u001b[1m22/22\u001b[0m \u001b[32m━━━━━━━━━━━━━━━━━━━━\u001b[0m\u001b[37m\u001b[0m \u001b[1m3s\u001b[0m 146ms/step - loss: 1.9313e-04 - val_loss: 0.0016\n",
            "Epoch 72/100\n",
            "\u001b[1m22/22\u001b[0m \u001b[32m━━━━━━━━━━━━━━━━━━━━\u001b[0m\u001b[37m\u001b[0m \u001b[1m5s\u001b[0m 213ms/step - loss: 2.1146e-04 - val_loss: 0.0015\n",
            "Epoch 73/100\n",
            "\u001b[1m22/22\u001b[0m \u001b[32m━━━━━━━━━━━━━━━━━━━━\u001b[0m\u001b[37m\u001b[0m \u001b[1m4s\u001b[0m 143ms/step - loss: 1.9929e-04 - val_loss: 0.0014\n",
            "Epoch 74/100\n",
            "\u001b[1m22/22\u001b[0m \u001b[32m━━━━━━━━━━━━━━━━━━━━\u001b[0m\u001b[37m\u001b[0m \u001b[1m5s\u001b[0m 144ms/step - loss: 1.8879e-04 - val_loss: 0.0015\n",
            "Epoch 75/100\n",
            "\u001b[1m22/22\u001b[0m \u001b[32m━━━━━━━━━━━━━━━━━━━━\u001b[0m\u001b[37m\u001b[0m \u001b[1m6s\u001b[0m 168ms/step - loss: 1.9809e-04 - val_loss: 0.0013\n",
            "Epoch 76/100\n",
            "\u001b[1m22/22\u001b[0m \u001b[32m━━━━━━━━━━━━━━━━━━━━\u001b[0m\u001b[37m\u001b[0m \u001b[1m5s\u001b[0m 149ms/step - loss: 1.6920e-04 - val_loss: 0.0015\n",
            "Epoch 77/100\n",
            "\u001b[1m22/22\u001b[0m \u001b[32m━━━━━━━━━━━━━━━━━━━━\u001b[0m\u001b[37m\u001b[0m \u001b[1m7s\u001b[0m 221ms/step - loss: 1.8344e-04 - val_loss: 0.0014\n",
            "Epoch 78/100\n",
            "\u001b[1m22/22\u001b[0m \u001b[32m━━━━━━━━━━━━━━━━━━━━\u001b[0m\u001b[37m\u001b[0m \u001b[1m3s\u001b[0m 144ms/step - loss: 2.1491e-04 - val_loss: 0.0015\n",
            "Epoch 79/100\n",
            "\u001b[1m22/22\u001b[0m \u001b[32m━━━━━━━━━━━━━━━━━━━━\u001b[0m\u001b[37m\u001b[0m \u001b[1m5s\u001b[0m 148ms/step - loss: 1.8713e-04 - val_loss: 0.0014\n",
            "Epoch 80/100\n",
            "\u001b[1m22/22\u001b[0m \u001b[32m━━━━━━━━━━━━━━━━━━━━\u001b[0m\u001b[37m\u001b[0m \u001b[1m4s\u001b[0m 199ms/step - loss: 1.6833e-04 - val_loss: 0.0014\n",
            "Epoch 81/100\n",
            "\u001b[1m22/22\u001b[0m \u001b[32m━━━━━━━━━━━━━━━━━━━━\u001b[0m\u001b[37m\u001b[0m \u001b[1m4s\u001b[0m 148ms/step - loss: 2.1014e-04 - val_loss: 0.0012\n",
            "Epoch 82/100\n",
            "\u001b[1m22/22\u001b[0m \u001b[32m━━━━━━━━━━━━━━━━━━━━\u001b[0m\u001b[37m\u001b[0m \u001b[1m5s\u001b[0m 153ms/step - loss: 1.8433e-04 - val_loss: 0.0012\n",
            "Epoch 83/100\n",
            "\u001b[1m22/22\u001b[0m \u001b[32m━━━━━━━━━━━━━━━━━━━━\u001b[0m\u001b[37m\u001b[0m \u001b[1m6s\u001b[0m 202ms/step - loss: 1.4928e-04 - val_loss: 0.0012\n",
            "Epoch 84/100\n",
            "\u001b[1m22/22\u001b[0m \u001b[32m━━━━━━━━━━━━━━━━━━━━\u001b[0m\u001b[37m\u001b[0m \u001b[1m3s\u001b[0m 143ms/step - loss: 2.0473e-04 - val_loss: 0.0013\n",
            "Epoch 85/100\n",
            "\u001b[1m22/22\u001b[0m \u001b[32m━━━━━━━━━━━━━━━━━━━━\u001b[0m\u001b[37m\u001b[0m \u001b[1m3s\u001b[0m 148ms/step - loss: 1.5840e-04 - val_loss: 0.0011\n",
            "Epoch 86/100\n",
            "\u001b[1m22/22\u001b[0m \u001b[32m━━━━━━━━━━━━━━━━━━━━\u001b[0m\u001b[37m\u001b[0m \u001b[1m4s\u001b[0m 167ms/step - loss: 1.7994e-04 - val_loss: 0.0012\n",
            "Epoch 87/100\n",
            "\u001b[1m22/22\u001b[0m \u001b[32m━━━━━━━━━━━━━━━━━━━━\u001b[0m\u001b[37m\u001b[0m \u001b[1m5s\u001b[0m 150ms/step - loss: 1.6404e-04 - val_loss: 0.0023\n",
            "Epoch 88/100\n",
            "\u001b[1m22/22\u001b[0m \u001b[32m━━━━━━━━━━━━━━━━━━━━\u001b[0m\u001b[37m\u001b[0m \u001b[1m3s\u001b[0m 147ms/step - loss: 2.8498e-04 - val_loss: 0.0012\n",
            "Epoch 89/100\n",
            "\u001b[1m22/22\u001b[0m \u001b[32m━━━━━━━━━━━━━━━━━━━━\u001b[0m\u001b[37m\u001b[0m \u001b[1m3s\u001b[0m 148ms/step - loss: 1.3679e-04 - val_loss: 0.0011\n",
            "Epoch 90/100\n",
            "\u001b[1m22/22\u001b[0m \u001b[32m━━━━━━━━━━━━━━━━━━━━\u001b[0m\u001b[37m\u001b[0m \u001b[1m6s\u001b[0m 165ms/step - loss: 1.4347e-04 - val_loss: 0.0011\n",
            "Epoch 91/100\n",
            "\u001b[1m22/22\u001b[0m \u001b[32m━━━━━━━━━━━━━━━━━━━━\u001b[0m\u001b[37m\u001b[0m \u001b[1m5s\u001b[0m 151ms/step - loss: 1.4717e-04 - val_loss: 0.0011\n",
            "Epoch 92/100\n",
            "\u001b[1m22/22\u001b[0m \u001b[32m━━━━━━━━━━━━━━━━━━━━\u001b[0m\u001b[37m\u001b[0m \u001b[1m6s\u001b[0m 216ms/step - loss: 1.3497e-04 - val_loss: 0.0022\n",
            "Epoch 93/100\n",
            "\u001b[1m22/22\u001b[0m \u001b[32m━━━━━━━━━━━━━━━━━━━━\u001b[0m\u001b[37m\u001b[0m \u001b[1m3s\u001b[0m 147ms/step - loss: 2.4168e-04 - val_loss: 0.0014\n",
            "Epoch 94/100\n",
            "\u001b[1m22/22\u001b[0m \u001b[32m━━━━━━━━━━━━━━━━━━━━\u001b[0m\u001b[37m\u001b[0m \u001b[1m5s\u001b[0m 149ms/step - loss: 1.5523e-04 - val_loss: 0.0010\n",
            "Epoch 95/100\n",
            "\u001b[1m22/22\u001b[0m \u001b[32m━━━━━━━━━━━━━━━━━━━━\u001b[0m\u001b[37m\u001b[0m \u001b[1m4s\u001b[0m 184ms/step - loss: 1.7645e-04 - val_loss: 0.0010\n",
            "Epoch 96/100\n",
            "\u001b[1m22/22\u001b[0m \u001b[32m━━━━━━━━━━━━━━━━━━━━\u001b[0m\u001b[37m\u001b[0m \u001b[1m4s\u001b[0m 174ms/step - loss: 1.5604e-04 - val_loss: 0.0010\n",
            "Epoch 97/100\n",
            "\u001b[1m22/22\u001b[0m \u001b[32m━━━━━━━━━━━━━━━━━━━━\u001b[0m\u001b[37m\u001b[0m \u001b[1m4s\u001b[0m 146ms/step - loss: 1.5659e-04 - val_loss: 0.0012\n",
            "Epoch 98/100\n",
            "\u001b[1m22/22\u001b[0m \u001b[32m━━━━━━━━━━━━━━━━━━━━\u001b[0m\u001b[37m\u001b[0m \u001b[1m3s\u001b[0m 143ms/step - loss: 1.3162e-04 - val_loss: 9.7665e-04\n",
            "Epoch 99/100\n",
            "\u001b[1m22/22\u001b[0m \u001b[32m━━━━━━━━━━━━━━━━━━━━\u001b[0m\u001b[37m\u001b[0m \u001b[1m5s\u001b[0m 217ms/step - loss: 1.2880e-04 - val_loss: 0.0010\n",
            "Epoch 100/100\n",
            "\u001b[1m22/22\u001b[0m \u001b[32m━━━━━━━━━━━━━━━━━━━━\u001b[0m\u001b[37m\u001b[0m \u001b[1m3s\u001b[0m 147ms/step - loss: 1.6067e-04 - val_loss: 0.0015\n"
          ]
        },
        {
          "output_type": "execute_result",
          "data": {
            "text/plain": [
              "<keras.src.callbacks.history.History at 0x7f4d7339de10>"
            ]
          },
          "metadata": {},
          "execution_count": 18
        }
      ]
    },
    {
      "cell_type": "markdown",
      "source": [
        "###Prediction for the Training and Testing data"
      ],
      "metadata": {
        "id": "Poaysbkwh3rI"
      }
    },
    {
      "cell_type": "code",
      "source": [
        "import tensorflow as tf\n",
        "train_predict=model.predict(X_train)\n",
        "test_predict=model.predict(X_test)"
      ],
      "metadata": {
        "colab": {
          "base_uri": "https://localhost:8080/"
        },
        "id": "ZBz900v9h7_f",
        "outputId": "21f2a2ff-8c43-463e-d93f-fd711f319bf0"
      },
      "execution_count": 19,
      "outputs": [
        {
          "output_type": "stream",
          "name": "stdout",
          "text": [
            "\u001b[1m43/43\u001b[0m \u001b[32m━━━━━━━━━━━━━━━━━━━━\u001b[0m\u001b[37m\u001b[0m \u001b[1m2s\u001b[0m 42ms/step\n",
            "\u001b[1m9/9\u001b[0m \u001b[32m━━━━━━━━━━━━━━━━━━━━\u001b[0m\u001b[37m\u001b[0m \u001b[1m0s\u001b[0m 33ms/step\n"
          ]
        }
      ]
    },
    {
      "cell_type": "code",
      "source": [
        "##Transform scaled ones into original form\n",
        "train_predict=scaler.inverse_transform(train_predict)\n",
        "test_predict=scaler.inverse_transform(test_predict)"
      ],
      "metadata": {
        "id": "7SyOkDUuicoh"
      },
      "execution_count": 20,
      "outputs": []
    },
    {
      "cell_type": "code",
      "source": [
        "### Calculate RMSE performance metrics\n",
        "import math\n",
        "from sklearn.metrics import mean_squared_error\n",
        "math.sqrt(mean_squared_error(y_train,train_predict))"
      ],
      "metadata": {
        "colab": {
          "base_uri": "https://localhost:8080/"
        },
        "id": "7i88ovGgixtH",
        "outputId": "c651899b-c2e3-4cf1-a189-c5f3f8c45df8"
      },
      "execution_count": 21,
      "outputs": [
        {
          "output_type": "execute_result",
          "data": {
            "text/plain": [
              "2556.4192826848684"
            ]
          },
          "metadata": {},
          "execution_count": 21
        }
      ]
    },
    {
      "cell_type": "code",
      "source": [
        "###Test Data RMSE\n",
        "math.sqrt(mean_squared_error(y_test,test_predict))"
      ],
      "metadata": {
        "colab": {
          "base_uri": "https://localhost:8080/"
        },
        "id": "HaK5pYlIi9_8",
        "outputId": "dd2b6705-3699-4a0b-cd60-a0630f32c3c3"
      },
      "execution_count": 22,
      "outputs": [
        {
          "output_type": "execute_result",
          "data": {
            "text/plain": [
              "3103.4768699807555"
            ]
          },
          "metadata": {},
          "execution_count": 22
        }
      ]
    },
    {
      "cell_type": "markdown",
      "source": [
        "###Visualization"
      ],
      "metadata": {
        "id": "ibMveS7jjpql"
      }
    },
    {
      "cell_type": "code",
      "source": [
        "### Plotting\n",
        "# shift train predictions for plotting\n",
        "look_back=100\n",
        "trainPredictPlot = numpy.empty_like(df1)\n",
        "trainPredictPlot[:, :] = np.nan\n",
        "trainPredictPlot[look_back:len(train_predict)+look_back, :] = train_predict\n",
        "# shift test predictions for plotting\n",
        "testPredictPlot = numpy.empty_like(df1)\n",
        "testPredictPlot[:, :] = numpy.nan\n",
        "testPredictPlot[len(train_predict)+(look_back*2)+1:len(df1)-1, :] = test_predict\n",
        "# plot baseline and predictions\n",
        "plt.plot(scaler.inverse_transform(df1))\n",
        "plt.plot(trainPredictPlot)\n",
        "plt.plot(testPredictPlot)\n",
        "plt.show()"
      ],
      "metadata": {
        "colab": {
          "base_uri": "https://localhost:8080/",
          "height": 430
        },
        "id": "qJEM7K6MjsZo",
        "outputId": "f68b1510-4c08-44ef-939f-50764eaf40af"
      },
      "execution_count": 23,
      "outputs": [
        {
          "output_type": "display_data",
          "data": {
            "text/plain": [
              "<Figure size 640x480 with 1 Axes>"
            ],
            "image/png": "[encoded data removed]"
          },
          "metadata": {}
        }
      ]
    },
    {
      "cell_type": "code",
      "source": [
        "len(test_data)"
      ],
      "metadata": {
        "colab": {
          "base_uri": "https://localhost:8080/"
        },
        "id": "R5-enM2DRIZT",
        "outputId": "1f7dde37-1ea3-441e-e2cf-71f651bbbab7"
      },
      "execution_count": 24,
      "outputs": [
        {
          "output_type": "execute_result",
          "data": {
            "text/plain": [
              "365"
            ]
          },
          "metadata": {},
          "execution_count": 24
        }
      ]
    },
    {
      "cell_type": "markdown",
      "source": [
        "###Predicting New Values"
      ],
      "metadata": {
        "id": "rjCtBl58VKnx"
      }
    },
    {
      "cell_type": "code",
      "source": [
        "x_input=test_data[265:].reshape(1,-1)\n",
        "x_input.shape"
      ],
      "metadata": {
        "colab": {
          "base_uri": "https://localhost:8080/"
        },
        "id": "tTnuqhn5TsBa",
        "outputId": "1c729ab8-962f-4a04-c863-ada6618be409"
      },
      "execution_count": 25,
      "outputs": [
        {
          "output_type": "execute_result",
          "data": {
            "text/plain": [
              "(1, 100)"
            ]
          },
          "metadata": {},
          "execution_count": 25
        }
      ]
    },
    {
      "cell_type": "code",
      "source": [
        "temp_input=list(x_input)\n",
        "temp_input=temp_input[0].tolist()"
      ],
      "metadata": {
        "id": "xL2awt8lUwLs"
      },
      "execution_count": 26,
      "outputs": []
    },
    {
      "cell_type": "code",
      "source": [
        "# demonstrate prediction for next 10 days\n",
        "from numpy import array\n",
        "\n",
        "lst_output=[]\n",
        "n_steps=100\n",
        "i=0\n",
        "while(i<30):\n",
        "\n",
        "    if(len(temp_input)>100):\n",
        "        #print(temp_input)\n",
        "        x_input=np.array(temp_input[1:])\n",
        "        print(\"{} day input {}\".format(i,x_input))\n",
        "        x_input=x_input.reshape(1,-1)\n",
        "        x_input = x_input.reshape((1, n_steps, 1))\n",
        "        #print(x_input)\n",
        "        yhat = model.predict(x_input, verbose=0)\n",
        "        print(\"{} day output {}\".format(i,yhat))\n",
        "        temp_input.extend(yhat[0].tolist())\n",
        "        temp_input=temp_input[1:]\n",
        "        #print(temp_input)\n",
        "        lst_output.extend(yhat.tolist())\n",
        "        i=i+1\n",
        "    else:\n",
        "        x_input = x_input.reshape((1, n_steps,1))\n",
        "        yhat = model.predict(x_input, verbose=0)\n",
        "        print(yhat[0])\n",
        "        temp_input.extend(yhat[0].tolist())\n",
        "        print(len(temp_input))\n",
        "        lst_output.extend(yhat.tolist())\n",
        "        i=i+1\n",
        "\n",
        "\n",
        "print(lst_output)"
      ],
      "metadata": {
        "colab": {
          "base_uri": "https://localhost:8080/"
        },
        "id": "l6bWU04HU0IZ",
        "outputId": "b992f0f2-4484-4a89-bc23-b349f083b204"
      },
      "execution_count": 27,
      "outputs": [
        {
          "output_type": "stream",
          "name": "stdout",
          "text": [
            "[0.93253976]\n",
            "101\n",
            "1 day input [0.85868529 0.85868529 0.85868529 0.86376914 0.86810216 0.85979774\n",
            " 0.86572707 0.87220705 0.87220705 0.87220705 0.89118555 0.89804943\n",
            " 0.91757845 0.92081572 0.93386477 0.93386477 0.93386477 0.92958185\n",
            " 0.94423276 0.97437476 0.90441262 0.88878261 0.88878261 0.88878261\n",
            " 0.88878261 0.83587445 0.87320828 0.83996263 0.84095273 0.84095273\n",
            " 0.84095273 0.86463132 0.87445422 0.86571593 0.84987462 0.82899387\n",
            " 0.82899387 0.82899387 0.80762927 0.82682464 0.78307738 0.78845618\n",
            " 0.81730755 0.81730755 0.81730755 0.84686549 0.83789349 0.85320641\n",
            " 0.86310726 0.84509659 0.84509659 0.84509659 0.87857038 0.85207726\n",
            " 0.88459978 0.89983489 0.916694   0.916694   0.916694   0.94844343\n",
            " 0.93604513 0.92310731 0.92014271 0.92040412 0.92040412 0.92040412\n",
            " 0.88876034 0.89777131 0.89356621 0.90353931 0.91015834 0.91015834\n",
            " 0.91015834 0.8743263  0.86860271 0.80205031 0.82378767 0.80145511\n",
            " 0.80145511 0.80145511 0.82385991 0.85663271 0.89794921 0.93522193\n",
            " 0.93466013 0.93466013 0.93466013 0.95749881 0.95473438 0.96982473\n",
            " 0.94999533 0.97677199 0.97677199 0.97677199 1.         0.99033286\n",
            " 0.96711598 0.97494769 0.96141466 0.93253976]\n",
            "1 day output [[0.90782213]]\n",
            "2 day input [0.85868529 0.85868529 0.86376914 0.86810216 0.85979774 0.86572707\n",
            " 0.87220705 0.87220705 0.87220705 0.89118555 0.89804943 0.91757845\n",
            " 0.92081572 0.93386477 0.93386477 0.93386477 0.92958185 0.94423276\n",
            " 0.97437476 0.90441262 0.88878261 0.88878261 0.88878261 0.88878261\n",
            " 0.83587445 0.87320828 0.83996263 0.84095273 0.84095273 0.84095273\n",
            " 0.86463132 0.87445422 0.86571593 0.84987462 0.82899387 0.82899387\n",
            " 0.82899387 0.80762927 0.82682464 0.78307738 0.78845618 0.81730755\n",
            " 0.81730755 0.81730755 0.84686549 0.83789349 0.85320641 0.86310726\n",
            " 0.84509659 0.84509659 0.84509659 0.87857038 0.85207726 0.88459978\n",
            " 0.89983489 0.916694   0.916694   0.916694   0.94844343 0.93604513\n",
            " 0.92310731 0.92014271 0.92040412 0.92040412 0.92040412 0.88876034\n",
            " 0.89777131 0.89356621 0.90353931 0.91015834 0.91015834 0.91015834\n",
            " 0.8743263  0.86860271 0.80205031 0.82378767 0.80145511 0.80145511\n",
            " 0.80145511 0.82385991 0.85663271 0.89794921 0.93522193 0.93466013\n",
            " 0.93466013 0.93466013 0.95749881 0.95473438 0.96982473 0.94999533\n",
            " 0.97677199 0.97677199 0.97677199 1.         0.99033286 0.96711598\n",
            " 0.97494769 0.96141466 0.93253976 0.90782213]\n",
            "2 day output [[0.88043547]]\n",
            "3 day input [0.85868529 0.86376914 0.86810216 0.85979774 0.86572707 0.87220705\n",
            " 0.87220705 0.87220705 0.89118555 0.89804943 0.91757845 0.92081572\n",
            " 0.93386477 0.93386477 0.93386477 0.92958185 0.94423276 0.97437476\n",
            " 0.90441262 0.88878261 0.88878261 0.88878261 0.88878261 0.83587445\n",
            " 0.87320828 0.83996263 0.84095273 0.84095273 0.84095273 0.86463132\n",
            " 0.87445422 0.86571593 0.84987462 0.82899387 0.82899387 0.82899387\n",
            " 0.80762927 0.82682464 0.78307738 0.78845618 0.81730755 0.81730755\n",
            " 0.81730755 0.84686549 0.83789349 0.85320641 0.86310726 0.84509659\n",
            " 0.84509659 0.84509659 0.87857038 0.85207726 0.88459978 0.89983489\n",
            " 0.916694   0.916694   0.916694   0.94844343 0.93604513 0.92310731\n",
            " 0.92014271 0.92040412 0.92040412 0.92040412 0.88876034 0.89777131\n",
            " 0.89356621 0.90353931 0.91015834 0.91015834 0.91015834 0.8743263\n",
            " 0.86860271 0.80205031 0.82378767 0.80145511 0.80145511 0.80145511\n",
            " 0.82385991 0.85663271 0.89794921 0.93522193 0.93466013 0.93466013\n",
            " 0.93466013 0.95749881 0.95473438 0.96982473 0.94999533 0.97677199\n",
            " 0.97677199 0.97677199 1.         0.99033286 0.96711598 0.97494769\n",
            " 0.96141466 0.93253976 0.90782213 0.88043547]\n",
            "3 day output [[0.8529047]]\n",
            "4 day input [0.86376914 0.86810216 0.85979774 0.86572707 0.87220705 0.87220705\n",
            " 0.87220705 0.89118555 0.89804943 0.91757845 0.92081572 0.93386477\n",
            " 0.93386477 0.93386477 0.92958185 0.94423276 0.97437476 0.90441262\n",
            " 0.88878261 0.88878261 0.88878261 0.88878261 0.83587445 0.87320828\n",
            " 0.83996263 0.84095273 0.84095273 0.84095273 0.86463132 0.87445422\n",
            " 0.86571593 0.84987462 0.82899387 0.82899387 0.82899387 0.80762927\n",
            " 0.82682464 0.78307738 0.78845618 0.81730755 0.81730755 0.81730755\n",
            " 0.84686549 0.83789349 0.85320641 0.86310726 0.84509659 0.84509659\n",
            " 0.84509659 0.87857038 0.85207726 0.88459978 0.89983489 0.916694\n",
            " 0.916694   0.916694   0.94844343 0.93604513 0.92310731 0.92014271\n",
            " 0.92040412 0.92040412 0.92040412 0.88876034 0.89777131 0.89356621\n",
            " 0.90353931 0.91015834 0.91015834 0.91015834 0.8743263  0.86860271\n",
            " 0.80205031 0.82378767 0.80145511 0.80145511 0.80145511 0.82385991\n",
            " 0.85663271 0.89794921 0.93522193 0.93466013 0.93466013 0.93466013\n",
            " 0.95749881 0.95473438 0.96982473 0.94999533 0.97677199 0.97677199\n",
            " 0.97677199 1.         0.99033286 0.96711598 0.97494769 0.96141466\n",
            " 0.93253976 0.90782213 0.88043547 0.85290468]\n",
            "4 day output [[0.8258317]]\n",
            "5 day input [0.86810216 0.85979774 0.86572707 0.87220705 0.87220705 0.87220705\n",
            " 0.89118555 0.89804943 0.91757845 0.92081572 0.93386477 0.93386477\n",
            " 0.93386477 0.92958185 0.94423276 0.97437476 0.90441262 0.88878261\n",
            " 0.88878261 0.88878261 0.88878261 0.83587445 0.87320828 0.83996263\n",
            " 0.84095273 0.84095273 0.84095273 0.86463132 0.87445422 0.86571593\n",
            " 0.84987462 0.82899387 0.82899387 0.82899387 0.80762927 0.82682464\n",
            " 0.78307738 0.78845618 0.81730755 0.81730755 0.81730755 0.84686549\n",
            " 0.83789349 0.85320641 0.86310726 0.84509659 0.84509659 0.84509659\n",
            " 0.87857038 0.85207726 0.88459978 0.89983489 0.916694   0.916694\n",
            " 0.916694   0.94844343 0.93604513 0.92310731 0.92014271 0.92040412\n",
            " 0.92040412 0.92040412 0.88876034 0.89777131 0.89356621 0.90353931\n",
            " 0.91015834 0.91015834 0.91015834 0.8743263  0.86860271 0.80205031\n",
            " 0.82378767 0.80145511 0.80145511 0.80145511 0.82385991 0.85663271\n",
            " 0.89794921 0.93522193 0.93466013 0.93466013 0.93466013 0.95749881\n",
            " 0.95473438 0.96982473 0.94999533 0.97677199 0.97677199 0.97677199\n",
            " 1.         0.99033286 0.96711598 0.97494769 0.96141466 0.93253976\n",
            " 0.90782213 0.88043547 0.85290468 0.82583171]\n",
            "5 day output [[0.7995529]]\n",
            "6 day input [0.85979774 0.86572707 0.87220705 0.87220705 0.87220705 0.89118555\n",
            " 0.89804943 0.91757845 0.92081572 0.93386477 0.93386477 0.93386477\n",
            " 0.92958185 0.94423276 0.97437476 0.90441262 0.88878261 0.88878261\n",
            " 0.88878261 0.88878261 0.83587445 0.87320828 0.83996263 0.84095273\n",
            " 0.84095273 0.84095273 0.86463132 0.87445422 0.86571593 0.84987462\n",
            " 0.82899387 0.82899387 0.82899387 0.80762927 0.82682464 0.78307738\n",
            " 0.78845618 0.81730755 0.81730755 0.81730755 0.84686549 0.83789349\n",
            " 0.85320641 0.86310726 0.84509659 0.84509659 0.84509659 0.87857038\n",
            " 0.85207726 0.88459978 0.89983489 0.916694   0.916694   0.916694\n",
            " 0.94844343 0.93604513 0.92310731 0.92014271 0.92040412 0.92040412\n",
            " 0.92040412 0.88876034 0.89777131 0.89356621 0.90353931 0.91015834\n",
            " 0.91015834 0.91015834 0.8743263  0.86860271 0.80205031 0.82378767\n",
            " 0.80145511 0.80145511 0.80145511 0.82385991 0.85663271 0.89794921\n",
            " 0.93522193 0.93466013 0.93466013 0.93466013 0.95749881 0.95473438\n",
            " 0.96982473 0.94999533 0.97677199 0.97677199 0.97677199 1.\n",
            " 0.99033286 0.96711598 0.97494769 0.96141466 0.93253976 0.90782213\n",
            " 0.88043547 0.85290468 0.82583171 0.79955292]\n",
            "6 day output [[0.774019]]\n",
            "7 day input [0.86572707 0.87220705 0.87220705 0.87220705 0.89118555 0.89804943\n",
            " 0.91757845 0.92081572 0.93386477 0.93386477 0.93386477 0.92958185\n",
            " 0.94423276 0.97437476 0.90441262 0.88878261 0.88878261 0.88878261\n",
            " 0.88878261 0.83587445 0.87320828 0.83996263 0.84095273 0.84095273\n",
            " 0.84095273 0.86463132 0.87445422 0.86571593 0.84987462 0.82899387\n",
            " 0.82899387 0.82899387 0.80762927 0.82682464 0.78307738 0.78845618\n",
            " 0.81730755 0.81730755 0.81730755 0.84686549 0.83789349 0.85320641\n",
            " 0.86310726 0.84509659 0.84509659 0.84509659 0.87857038 0.85207726\n",
            " 0.88459978 0.89983489 0.916694   0.916694   0.916694   0.94844343\n",
            " 0.93604513 0.92310731 0.92014271 0.92040412 0.92040412 0.92040412\n",
            " 0.88876034 0.89777131 0.89356621 0.90353931 0.91015834 0.91015834\n",
            " 0.91015834 0.8743263  0.86860271 0.80205031 0.82378767 0.80145511\n",
            " 0.80145511 0.80145511 0.82385991 0.85663271 0.89794921 0.93522193\n",
            " 0.93466013 0.93466013 0.93466013 0.95749881 0.95473438 0.96982473\n",
            " 0.94999533 0.97677199 0.97677199 0.97677199 1.         0.99033286\n",
            " 0.96711598 0.97494769 0.96141466 0.93253976 0.90782213 0.88043547\n",
            " 0.85290468 0.82583171 0.79955292 0.774019  ]\n",
            "7 day output [[0.74893236]]\n",
            "8 day input [0.87220705 0.87220705 0.87220705 0.89118555 0.89804943 0.91757845\n",
            " 0.92081572 0.93386477 0.93386477 0.93386477 0.92958185 0.94423276\n",
            " 0.97437476 0.90441262 0.88878261 0.88878261 0.88878261 0.88878261\n",
            " 0.83587445 0.87320828 0.83996263 0.84095273 0.84095273 0.84095273\n",
            " 0.86463132 0.87445422 0.86571593 0.84987462 0.82899387 0.82899387\n",
            " 0.82899387 0.80762927 0.82682464 0.78307738 0.78845618 0.81730755\n",
            " 0.81730755 0.81730755 0.84686549 0.83789349 0.85320641 0.86310726\n",
            " 0.84509659 0.84509659 0.84509659 0.87857038 0.85207726 0.88459978\n",
            " 0.89983489 0.916694   0.916694   0.916694   0.94844343 0.93604513\n",
            " 0.92310731 0.92014271 0.92040412 0.92040412 0.92040412 0.88876034\n",
            " 0.89777131 0.89356621 0.90353931 0.91015834 0.91015834 0.91015834\n",
            " 0.8743263  0.86860271 0.80205031 0.82378767 0.80145511 0.80145511\n",
            " 0.80145511 0.82385991 0.85663271 0.89794921 0.93522193 0.93466013\n",
            " 0.93466013 0.93466013 0.95749881 0.95473438 0.96982473 0.94999533\n",
            " 0.97677199 0.97677199 0.97677199 1.         0.99033286 0.96711598\n",
            " 0.97494769 0.96141466 0.93253976 0.90782213 0.88043547 0.85290468\n",
            " 0.82583171 0.79955292 0.774019   0.74893236]\n",
            "8 day output [[0.7239175]]\n",
            "9 day input [0.87220705 0.87220705 0.89118555 0.89804943 0.91757845 0.92081572\n",
            " 0.93386477 0.93386477 0.93386477 0.92958185 0.94423276 0.97437476\n",
            " 0.90441262 0.88878261 0.88878261 0.88878261 0.88878261 0.83587445\n",
            " 0.87320828 0.83996263 0.84095273 0.84095273 0.84095273 0.86463132\n",
            " 0.87445422 0.86571593 0.84987462 0.82899387 0.82899387 0.82899387\n",
            " 0.80762927 0.82682464 0.78307738 0.78845618 0.81730755 0.81730755\n",
            " 0.81730755 0.84686549 0.83789349 0.85320641 0.86310726 0.84509659\n",
            " 0.84509659 0.84509659 0.87857038 0.85207726 0.88459978 0.89983489\n",
            " 0.916694   0.916694   0.916694   0.94844343 0.93604513 0.92310731\n",
            " 0.92014271 0.92040412 0.92040412 0.92040412 0.88876034 0.89777131\n",
            " 0.89356621 0.90353931 0.91015834 0.91015834 0.91015834 0.8743263\n",
            " 0.86860271 0.80205031 0.82378767 0.80145511 0.80145511 0.80145511\n",
            " 0.82385991 0.85663271 0.89794921 0.93522193 0.93466013 0.93466013\n",
            " 0.93466013 0.95749881 0.95473438 0.96982473 0.94999533 0.97677199\n",
            " 0.97677199 0.97677199 1.         0.99033286 0.96711598 0.97494769\n",
            " 0.96141466 0.93253976 0.90782213 0.88043547 0.85290468 0.82583171\n",
            " 0.79955292 0.774019   0.74893236 0.72391748]\n",
            "9 day output [[0.69865507]]\n",
            "10 day input [0.87220705 0.89118555 0.89804943 0.91757845 0.92081572 0.93386477\n",
            " 0.93386477 0.93386477 0.92958185 0.94423276 0.97437476 0.90441262\n",
            " 0.88878261 0.88878261 0.88878261 0.88878261 0.83587445 0.87320828\n",
            " 0.83996263 0.84095273 0.84095273 0.84095273 0.86463132 0.87445422\n",
            " 0.86571593 0.84987462 0.82899387 0.82899387 0.82899387 0.80762927\n",
            " 0.82682464 0.78307738 0.78845618 0.81730755 0.81730755 0.81730755\n",
            " 0.84686549 0.83789349 0.85320641 0.86310726 0.84509659 0.84509659\n",
            " 0.84509659 0.87857038 0.85207726 0.88459978 0.89983489 0.916694\n",
            " 0.916694   0.916694   0.94844343 0.93604513 0.92310731 0.92014271\n",
            " 0.92040412 0.92040412 0.92040412 0.88876034 0.89777131 0.89356621\n",
            " 0.90353931 0.91015834 0.91015834 0.91015834 0.8743263  0.86860271\n",
            " 0.80205031 0.82378767 0.80145511 0.80145511 0.80145511 0.82385991\n",
            " 0.85663271 0.89794921 0.93522193 0.93466013 0.93466013 0.93466013\n",
            " 0.95749881 0.95473438 0.96982473 0.94999533 0.97677199 0.97677199\n",
            " 0.97677199 1.         0.99033286 0.96711598 0.97494769 0.96141466\n",
            " 0.93253976 0.90782213 0.88043547 0.85290468 0.82583171 0.79955292\n",
            " 0.774019   0.74893236 0.72391748 0.69865507]\n",
            "10 day output [[0.67297053]]\n",
            "11 day input [0.89118555 0.89804943 0.91757845 0.92081572 0.93386477 0.93386477\n",
            " 0.93386477 0.92958185 0.94423276 0.97437476 0.90441262 0.88878261\n",
            " 0.88878261 0.88878261 0.88878261 0.83587445 0.87320828 0.83996263\n",
            " 0.84095273 0.84095273 0.84095273 0.86463132 0.87445422 0.86571593\n",
            " 0.84987462 0.82899387 0.82899387 0.82899387 0.80762927 0.82682464\n",
            " 0.78307738 0.78845618 0.81730755 0.81730755 0.81730755 0.84686549\n",
            " 0.83789349 0.85320641 0.86310726 0.84509659 0.84509659 0.84509659\n",
            " 0.87857038 0.85207726 0.88459978 0.89983489 0.916694   0.916694\n",
            " 0.916694   0.94844343 0.93604513 0.92310731 0.92014271 0.92040412\n",
            " 0.92040412 0.92040412 0.88876034 0.89777131 0.89356621 0.90353931\n",
            " 0.91015834 0.91015834 0.91015834 0.8743263  0.86860271 0.80205031\n",
            " 0.82378767 0.80145511 0.80145511 0.80145511 0.82385991 0.85663271\n",
            " 0.89794921 0.93522193 0.93466013 0.93466013 0.93466013 0.95749881\n",
            " 0.95473438 0.96982473 0.94999533 0.97677199 0.97677199 0.97677199\n",
            " 1.         0.99033286 0.96711598 0.97494769 0.96141466 0.93253976\n",
            " 0.90782213 0.88043547 0.85290468 0.82583171 0.79955292 0.774019\n",
            " 0.74893236 0.72391748 0.69865507 0.67297053]\n",
            "11 day output [[0.6468778]]\n",
            "12 day input [0.89804943 0.91757845 0.92081572 0.93386477 0.93386477 0.93386477\n",
            " 0.92958185 0.94423276 0.97437476 0.90441262 0.88878261 0.88878261\n",
            " 0.88878261 0.88878261 0.83587445 0.87320828 0.83996263 0.84095273\n",
            " 0.84095273 0.84095273 0.86463132 0.87445422 0.86571593 0.84987462\n",
            " 0.82899387 0.82899387 0.82899387 0.80762927 0.82682464 0.78307738\n",
            " 0.78845618 0.81730755 0.81730755 0.81730755 0.84686549 0.83789349\n",
            " 0.85320641 0.86310726 0.84509659 0.84509659 0.84509659 0.87857038\n",
            " 0.85207726 0.88459978 0.89983489 0.916694   0.916694   0.916694\n",
            " 0.94844343 0.93604513 0.92310731 0.92014271 0.92040412 0.92040412\n",
            " 0.92040412 0.88876034 0.89777131 0.89356621 0.90353931 0.91015834\n",
            " 0.91015834 0.91015834 0.8743263  0.86860271 0.80205031 0.82378767\n",
            " 0.80145511 0.80145511 0.80145511 0.82385991 0.85663271 0.89794921\n",
            " 0.93522193 0.93466013 0.93466013 0.93466013 0.95749881 0.95473438\n",
            " 0.96982473 0.94999533 0.97677199 0.97677199 0.97677199 1.\n",
            " 0.99033286 0.96711598 0.97494769 0.96141466 0.93253976 0.90782213\n",
            " 0.88043547 0.85290468 0.82583171 0.79955292 0.774019   0.74893236\n",
            " 0.72391748 0.69865507 0.67297053 0.64687783]\n",
            "12 day output [[0.62057835]]\n",
            "13 day input [0.91757845 0.92081572 0.93386477 0.93386477 0.93386477 0.92958185\n",
            " 0.94423276 0.97437476 0.90441262 0.88878261 0.88878261 0.88878261\n",
            " 0.88878261 0.83587445 0.87320828 0.83996263 0.84095273 0.84095273\n",
            " 0.84095273 0.86463132 0.87445422 0.86571593 0.84987462 0.82899387\n",
            " 0.82899387 0.82899387 0.80762927 0.82682464 0.78307738 0.78845618\n",
            " 0.81730755 0.81730755 0.81730755 0.84686549 0.83789349 0.85320641\n",
            " 0.86310726 0.84509659 0.84509659 0.84509659 0.87857038 0.85207726\n",
            " 0.88459978 0.89983489 0.916694   0.916694   0.916694   0.94844343\n",
            " 0.93604513 0.92310731 0.92014271 0.92040412 0.92040412 0.92040412\n",
            " 0.88876034 0.89777131 0.89356621 0.90353931 0.91015834 0.91015834\n",
            " 0.91015834 0.8743263  0.86860271 0.80205031 0.82378767 0.80145511\n",
            " 0.80145511 0.80145511 0.82385991 0.85663271 0.89794921 0.93522193\n",
            " 0.93466013 0.93466013 0.93466013 0.95749881 0.95473438 0.96982473\n",
            " 0.94999533 0.97677199 0.97677199 0.97677199 1.         0.99033286\n",
            " 0.96711598 0.97494769 0.96141466 0.93253976 0.90782213 0.88043547\n",
            " 0.85290468 0.82583171 0.79955292 0.774019   0.74893236 0.72391748\n",
            " 0.69865507 0.67297053 0.64687783 0.62057835]\n",
            "13 day output [[0.5944271]]\n",
            "14 day input [0.92081572 0.93386477 0.93386477 0.93386477 0.92958185 0.94423276\n",
            " 0.97437476 0.90441262 0.88878261 0.88878261 0.88878261 0.88878261\n",
            " 0.83587445 0.87320828 0.83996263 0.84095273 0.84095273 0.84095273\n",
            " 0.86463132 0.87445422 0.86571593 0.84987462 0.82899387 0.82899387\n",
            " 0.82899387 0.80762927 0.82682464 0.78307738 0.78845618 0.81730755\n",
            " 0.81730755 0.81730755 0.84686549 0.83789349 0.85320641 0.86310726\n",
            " 0.84509659 0.84509659 0.84509659 0.87857038 0.85207726 0.88459978\n",
            " 0.89983489 0.916694   0.916694   0.916694   0.94844343 0.93604513\n",
            " 0.92310731 0.92014271 0.92040412 0.92040412 0.92040412 0.88876034\n",
            " 0.89777131 0.89356621 0.90353931 0.91015834 0.91015834 0.91015834\n",
            " 0.8743263  0.86860271 0.80205031 0.82378767 0.80145511 0.80145511\n",
            " 0.80145511 0.82385991 0.85663271 0.89794921 0.93522193 0.93466013\n",
            " 0.93466013 0.93466013 0.95749881 0.95473438 0.96982473 0.94999533\n",
            " 0.97677199 0.97677199 0.97677199 1.         0.99033286 0.96711598\n",
            " 0.97494769 0.96141466 0.93253976 0.90782213 0.88043547 0.85290468\n",
            " 0.82583171 0.79955292 0.774019   0.74893236 0.72391748 0.69865507\n",
            " 0.67297053 0.64687783 0.62057835 0.59442711]\n",
            "14 day output [[0.56887794]]\n",
            "15 day input [0.93386477 0.93386477 0.93386477 0.92958185 0.94423276 0.97437476\n",
            " 0.90441262 0.88878261 0.88878261 0.88878261 0.88878261 0.83587445\n",
            " 0.87320828 0.83996263 0.84095273 0.84095273 0.84095273 0.86463132\n",
            " 0.87445422 0.86571593 0.84987462 0.82899387 0.82899387 0.82899387\n",
            " 0.80762927 0.82682464 0.78307738 0.78845618 0.81730755 0.81730755\n",
            " 0.81730755 0.84686549 0.83789349 0.85320641 0.86310726 0.84509659\n",
            " 0.84509659 0.84509659 0.87857038 0.85207726 0.88459978 0.89983489\n",
            " 0.916694   0.916694   0.916694   0.94844343 0.93604513 0.92310731\n",
            " 0.92014271 0.92040412 0.92040412 0.92040412 0.88876034 0.89777131\n",
            " 0.89356621 0.90353931 0.91015834 0.91015834 0.91015834 0.8743263\n",
            " 0.86860271 0.80205031 0.82378767 0.80145511 0.80145511 0.80145511\n",
            " 0.82385991 0.85663271 0.89794921 0.93522193 0.93466013 0.93466013\n",
            " 0.93466013 0.95749881 0.95473438 0.96982473 0.94999533 0.97677199\n",
            " 0.97677199 0.97677199 1.         0.99033286 0.96711598 0.97494769\n",
            " 0.96141466 0.93253976 0.90782213 0.88043547 0.85290468 0.82583171\n",
            " 0.79955292 0.774019   0.74893236 0.72391748 0.69865507 0.67297053\n",
            " 0.64687783 0.62057835 0.59442711 0.56887794]\n",
            "15 day output [[0.5444176]]\n",
            "16 day input [0.93386477 0.93386477 0.92958185 0.94423276 0.97437476 0.90441262\n",
            " 0.88878261 0.88878261 0.88878261 0.88878261 0.83587445 0.87320828\n",
            " 0.83996263 0.84095273 0.84095273 0.84095273 0.86463132 0.87445422\n",
            " 0.86571593 0.84987462 0.82899387 0.82899387 0.82899387 0.80762927\n",
            " 0.82682464 0.78307738 0.78845618 0.81730755 0.81730755 0.81730755\n",
            " 0.84686549 0.83789349 0.85320641 0.86310726 0.84509659 0.84509659\n",
            " 0.84509659 0.87857038 0.85207726 0.88459978 0.89983489 0.916694\n",
            " 0.916694   0.916694   0.94844343 0.93604513 0.92310731 0.92014271\n",
            " 0.92040412 0.92040412 0.92040412 0.88876034 0.89777131 0.89356621\n",
            " 0.90353931 0.91015834 0.91015834 0.91015834 0.8743263  0.86860271\n",
            " 0.80205031 0.82378767 0.80145511 0.80145511 0.80145511 0.82385991\n",
            " 0.85663271 0.89794921 0.93522193 0.93466013 0.93466013 0.93466013\n",
            " 0.95749881 0.95473438 0.96982473 0.94999533 0.97677199 0.97677199\n",
            " 0.97677199 1.         0.99033286 0.96711598 0.97494769 0.96141466\n",
            " 0.93253976 0.90782213 0.88043547 0.85290468 0.82583171 0.79955292\n",
            " 0.774019   0.74893236 0.72391748 0.69865507 0.67297053 0.64687783\n",
            " 0.62057835 0.59442711 0.56887794 0.54441762]\n",
            "16 day output [[0.5215031]]\n",
            "17 day input [0.93386477 0.92958185 0.94423276 0.97437476 0.90441262 0.88878261\n",
            " 0.88878261 0.88878261 0.88878261 0.83587445 0.87320828 0.83996263\n",
            " 0.84095273 0.84095273 0.84095273 0.86463132 0.87445422 0.86571593\n",
            " 0.84987462 0.82899387 0.82899387 0.82899387 0.80762927 0.82682464\n",
            " 0.78307738 0.78845618 0.81730755 0.81730755 0.81730755 0.84686549\n",
            " 0.83789349 0.85320641 0.86310726 0.84509659 0.84509659 0.84509659\n",
            " 0.87857038 0.85207726 0.88459978 0.89983489 0.916694   0.916694\n",
            " 0.916694   0.94844343 0.93604513 0.92310731 0.92014271 0.92040412\n",
            " 0.92040412 0.92040412 0.88876034 0.89777131 0.89356621 0.90353931\n",
            " 0.91015834 0.91015834 0.91015834 0.8743263  0.86860271 0.80205031\n",
            " 0.82378767 0.80145511 0.80145511 0.80145511 0.82385991 0.85663271\n",
            " 0.89794921 0.93522193 0.93466013 0.93466013 0.93466013 0.95749881\n",
            " 0.95473438 0.96982473 0.94999533 0.97677199 0.97677199 0.97677199\n",
            " 1.         0.99033286 0.96711598 0.97494769 0.96141466 0.93253976\n",
            " 0.90782213 0.88043547 0.85290468 0.82583171 0.79955292 0.774019\n",
            " 0.74893236 0.72391748 0.69865507 0.67297053 0.64687783 0.62057835\n",
            " 0.59442711 0.56887794 0.54441762 0.52150309]\n",
            "17 day output [[0.500509]]\n",
            "18 day input [0.92958185 0.94423276 0.97437476 0.90441262 0.88878261 0.88878261\n",
            " 0.88878261 0.88878261 0.83587445 0.87320828 0.83996263 0.84095273\n",
            " 0.84095273 0.84095273 0.86463132 0.87445422 0.86571593 0.84987462\n",
            " 0.82899387 0.82899387 0.82899387 0.80762927 0.82682464 0.78307738\n",
            " 0.78845618 0.81730755 0.81730755 0.81730755 0.84686549 0.83789349\n",
            " 0.85320641 0.86310726 0.84509659 0.84509659 0.84509659 0.87857038\n",
            " 0.85207726 0.88459978 0.89983489 0.916694   0.916694   0.916694\n",
            " 0.94844343 0.93604513 0.92310731 0.92014271 0.92040412 0.92040412\n",
            " 0.92040412 0.88876034 0.89777131 0.89356621 0.90353931 0.91015834\n",
            " 0.91015834 0.91015834 0.8743263  0.86860271 0.80205031 0.82378767\n",
            " 0.80145511 0.80145511 0.80145511 0.82385991 0.85663271 0.89794921\n",
            " 0.93522193 0.93466013 0.93466013 0.93466013 0.95749881 0.95473438\n",
            " 0.96982473 0.94999533 0.97677199 0.97677199 0.97677199 1.\n",
            " 0.99033286 0.96711598 0.97494769 0.96141466 0.93253976 0.90782213\n",
            " 0.88043547 0.85290468 0.82583171 0.79955292 0.774019   0.74893236\n",
            " 0.72391748 0.69865507 0.67297053 0.64687783 0.62057835 0.59442711\n",
            " 0.56887794 0.54441762 0.52150309 0.50050902]\n",
            "18 day output [[0.48169753]]\n",
            "19 day input [0.94423276 0.97437476 0.90441262 0.88878261 0.88878261 0.88878261\n",
            " 0.88878261 0.83587445 0.87320828 0.83996263 0.84095273 0.84095273\n",
            " 0.84095273 0.86463132 0.87445422 0.86571593 0.84987462 0.82899387\n",
            " 0.82899387 0.82899387 0.80762927 0.82682464 0.78307738 0.78845618\n",
            " 0.81730755 0.81730755 0.81730755 0.84686549 0.83789349 0.85320641\n",
            " 0.86310726 0.84509659 0.84509659 0.84509659 0.87857038 0.85207726\n",
            " 0.88459978 0.89983489 0.916694   0.916694   0.916694   0.94844343\n",
            " 0.93604513 0.92310731 0.92014271 0.92040412 0.92040412 0.92040412\n",
            " 0.88876034 0.89777131 0.89356621 0.90353931 0.91015834 0.91015834\n",
            " 0.91015834 0.8743263  0.86860271 0.80205031 0.82378767 0.80145511\n",
            " 0.80145511 0.80145511 0.82385991 0.85663271 0.89794921 0.93522193\n",
            " 0.93466013 0.93466013 0.93466013 0.95749881 0.95473438 0.96982473\n",
            " 0.94999533 0.97677199 0.97677199 0.97677199 1.         0.99033286\n",
            " 0.96711598 0.97494769 0.96141466 0.93253976 0.90782213 0.88043547\n",
            " 0.85290468 0.82583171 0.79955292 0.774019   0.74893236 0.72391748\n",
            " 0.69865507 0.67297053 0.64687783 0.62057835 0.59442711 0.56887794\n",
            " 0.54441762 0.52150309 0.50050902 0.48169753]\n",
            "19 day output [[0.465205]]\n",
            "20 day input [0.97437476 0.90441262 0.88878261 0.88878261 0.88878261 0.88878261\n",
            " 0.83587445 0.87320828 0.83996263 0.84095273 0.84095273 0.84095273\n",
            " 0.86463132 0.87445422 0.86571593 0.84987462 0.82899387 0.82899387\n",
            " 0.82899387 0.80762927 0.82682464 0.78307738 0.78845618 0.81730755\n",
            " 0.81730755 0.81730755 0.84686549 0.83789349 0.85320641 0.86310726\n",
            " 0.84509659 0.84509659 0.84509659 0.87857038 0.85207726 0.88459978\n",
            " 0.89983489 0.916694   0.916694   0.916694   0.94844343 0.93604513\n",
            " 0.92310731 0.92014271 0.92040412 0.92040412 0.92040412 0.88876034\n",
            " 0.89777131 0.89356621 0.90353931 0.91015834 0.91015834 0.91015834\n",
            " 0.8743263  0.86860271 0.80205031 0.82378767 0.80145511 0.80145511\n",
            " 0.80145511 0.82385991 0.85663271 0.89794921 0.93522193 0.93466013\n",
            " 0.93466013 0.93466013 0.95749881 0.95473438 0.96982473 0.94999533\n",
            " 0.97677199 0.97677199 0.97677199 1.         0.99033286 0.96711598\n",
            " 0.97494769 0.96141466 0.93253976 0.90782213 0.88043547 0.85290468\n",
            " 0.82583171 0.79955292 0.774019   0.74893236 0.72391748 0.69865507\n",
            " 0.67297053 0.64687783 0.62057835 0.59442711 0.56887794 0.54441762\n",
            " 0.52150309 0.50050902 0.48169753 0.46520501]\n",
            "20 day output [[0.4510512]]\n",
            "21 day input [0.90441262 0.88878261 0.88878261 0.88878261 0.88878261 0.83587445\n",
            " 0.87320828 0.83996263 0.84095273 0.84095273 0.84095273 0.86463132\n",
            " 0.87445422 0.86571593 0.84987462 0.82899387 0.82899387 0.82899387\n",
            " 0.80762927 0.82682464 0.78307738 0.78845618 0.81730755 0.81730755\n",
            " 0.81730755 0.84686549 0.83789349 0.85320641 0.86310726 0.84509659\n",
            " 0.84509659 0.84509659 0.87857038 0.85207726 0.88459978 0.89983489\n",
            " 0.916694   0.916694   0.916694   0.94844343 0.93604513 0.92310731\n",
            " 0.92014271 0.92040412 0.92040412 0.92040412 0.88876034 0.89777131\n",
            " 0.89356621 0.90353931 0.91015834 0.91015834 0.91015834 0.8743263\n",
            " 0.86860271 0.80205031 0.82378767 0.80145511 0.80145511 0.80145511\n",
            " 0.82385991 0.85663271 0.89794921 0.93522193 0.93466013 0.93466013\n",
            " 0.93466013 0.95749881 0.95473438 0.96982473 0.94999533 0.97677199\n",
            " 0.97677199 0.97677199 1.         0.99033286 0.96711598 0.97494769\n",
            " 0.96141466 0.93253976 0.90782213 0.88043547 0.85290468 0.82583171\n",
            " 0.79955292 0.774019   0.74893236 0.72391748 0.69865507 0.67297053\n",
            " 0.64687783 0.62057835 0.59442711 0.56887794 0.54441762 0.52150309\n",
            " 0.50050902 0.48169753 0.46520501 0.45105121]\n",
            "21 day output [[0.43915796]]\n",
            "22 day input [0.88878261 0.88878261 0.88878261 0.88878261 0.83587445 0.87320828\n",
            " 0.83996263 0.84095273 0.84095273 0.84095273 0.86463132 0.87445422\n",
            " 0.86571593 0.84987462 0.82899387 0.82899387 0.82899387 0.80762927\n",
            " 0.82682464 0.78307738 0.78845618 0.81730755 0.81730755 0.81730755\n",
            " 0.84686549 0.83789349 0.85320641 0.86310726 0.84509659 0.84509659\n",
            " 0.84509659 0.87857038 0.85207726 0.88459978 0.89983489 0.916694\n",
            " 0.916694   0.916694   0.94844343 0.93604513 0.92310731 0.92014271\n",
            " 0.92040412 0.92040412 0.92040412 0.88876034 0.89777131 0.89356621\n",
            " 0.90353931 0.91015834 0.91015834 0.91015834 0.8743263  0.86860271\n",
            " 0.80205031 0.82378767 0.80145511 0.80145511 0.80145511 0.82385991\n",
            " 0.85663271 0.89794921 0.93522193 0.93466013 0.93466013 0.93466013\n",
            " 0.95749881 0.95473438 0.96982473 0.94999533 0.97677199 0.97677199\n",
            " 0.97677199 1.         0.99033286 0.96711598 0.97494769 0.96141466\n",
            " 0.93253976 0.90782213 0.88043547 0.85290468 0.82583171 0.79955292\n",
            " 0.774019   0.74893236 0.72391748 0.69865507 0.67297053 0.64687783\n",
            " 0.62057835 0.59442711 0.56887794 0.54441762 0.52150309 0.50050902\n",
            " 0.48169753 0.46520501 0.45105121 0.43915796]\n",
            "22 day output [[0.42937687]]\n",
            "23 day input [0.88878261 0.88878261 0.88878261 0.83587445 0.87320828 0.83996263\n",
            " 0.84095273 0.84095273 0.84095273 0.86463132 0.87445422 0.86571593\n",
            " 0.84987462 0.82899387 0.82899387 0.82899387 0.80762927 0.82682464\n",
            " 0.78307738 0.78845618 0.81730755 0.81730755 0.81730755 0.84686549\n",
            " 0.83789349 0.85320641 0.86310726 0.84509659 0.84509659 0.84509659\n",
            " 0.87857038 0.85207726 0.88459978 0.89983489 0.916694   0.916694\n",
            " 0.916694   0.94844343 0.93604513 0.92310731 0.92014271 0.92040412\n",
            " 0.92040412 0.92040412 0.88876034 0.89777131 0.89356621 0.90353931\n",
            " 0.91015834 0.91015834 0.91015834 0.8743263  0.86860271 0.80205031\n",
            " 0.82378767 0.80145511 0.80145511 0.80145511 0.82385991 0.85663271\n",
            " 0.89794921 0.93522193 0.93466013 0.93466013 0.93466013 0.95749881\n",
            " 0.95473438 0.96982473 0.94999533 0.97677199 0.97677199 0.97677199\n",
            " 1.         0.99033286 0.96711598 0.97494769 0.96141466 0.93253976\n",
            " 0.90782213 0.88043547 0.85290468 0.82583171 0.79955292 0.774019\n",
            " 0.74893236 0.72391748 0.69865507 0.67297053 0.64687783 0.62057835\n",
            " 0.59442711 0.56887794 0.54441762 0.52150309 0.50050902 0.48169753\n",
            " 0.46520501 0.45105121 0.43915796 0.42937687]\n",
            "23 day output [[0.42151457]]\n",
            "24 day input [0.88878261 0.88878261 0.83587445 0.87320828 0.83996263 0.84095273\n",
            " 0.84095273 0.84095273 0.86463132 0.87445422 0.86571593 0.84987462\n",
            " 0.82899387 0.82899387 0.82899387 0.80762927 0.82682464 0.78307738\n",
            " 0.78845618 0.81730755 0.81730755 0.81730755 0.84686549 0.83789349\n",
            " 0.85320641 0.86310726 0.84509659 0.84509659 0.84509659 0.87857038\n",
            " 0.85207726 0.88459978 0.89983489 0.916694   0.916694   0.916694\n",
            " 0.94844343 0.93604513 0.92310731 0.92014271 0.92040412 0.92040412\n",
            " 0.92040412 0.88876034 0.89777131 0.89356621 0.90353931 0.91015834\n",
            " 0.91015834 0.91015834 0.8743263  0.86860271 0.80205031 0.82378767\n",
            " 0.80145511 0.80145511 0.80145511 0.82385991 0.85663271 0.89794921\n",
            " 0.93522193 0.93466013 0.93466013 0.93466013 0.95749881 0.95473438\n",
            " 0.96982473 0.94999533 0.97677199 0.97677199 0.97677199 1.\n",
            " 0.99033286 0.96711598 0.97494769 0.96141466 0.93253976 0.90782213\n",
            " 0.88043547 0.85290468 0.82583171 0.79955292 0.774019   0.74893236\n",
            " 0.72391748 0.69865507 0.67297053 0.64687783 0.62057835 0.59442711\n",
            " 0.56887794 0.54441762 0.52150309 0.50050902 0.48169753 0.46520501\n",
            " 0.45105121 0.43915796 0.42937687 0.42151457]\n",
            "24 day output [[0.41535556]]\n",
            "25 day input [0.88878261 0.83587445 0.87320828 0.83996263 0.84095273 0.84095273\n",
            " 0.84095273 0.86463132 0.87445422 0.86571593 0.84987462 0.82899387\n",
            " 0.82899387 0.82899387 0.80762927 0.82682464 0.78307738 0.78845618\n",
            " 0.81730755 0.81730755 0.81730755 0.84686549 0.83789349 0.85320641\n",
            " 0.86310726 0.84509659 0.84509659 0.84509659 0.87857038 0.85207726\n",
            " 0.88459978 0.89983489 0.916694   0.916694   0.916694   0.94844343\n",
            " 0.93604513 0.92310731 0.92014271 0.92040412 0.92040412 0.92040412\n",
            " 0.88876034 0.89777131 0.89356621 0.90353931 0.91015834 0.91015834\n",
            " 0.91015834 0.8743263  0.86860271 0.80205031 0.82378767 0.80145511\n",
            " 0.80145511 0.80145511 0.82385991 0.85663271 0.89794921 0.93522193\n",
            " 0.93466013 0.93466013 0.93466013 0.95749881 0.95473438 0.96982473\n",
            " 0.94999533 0.97677199 0.97677199 0.97677199 1.         0.99033286\n",
            " 0.96711598 0.97494769 0.96141466 0.93253976 0.90782213 0.88043547\n",
            " 0.85290468 0.82583171 0.79955292 0.774019   0.74893236 0.72391748\n",
            " 0.69865507 0.67297053 0.64687783 0.62057835 0.59442711 0.56887794\n",
            " 0.54441762 0.52150309 0.50050902 0.48169753 0.46520501 0.45105121\n",
            " 0.43915796 0.42937687 0.42151457 0.41535556]\n",
            "25 day output [[0.41067982]]\n",
            "26 day input [0.83587445 0.87320828 0.83996263 0.84095273 0.84095273 0.84095273\n",
            " 0.86463132 0.87445422 0.86571593 0.84987462 0.82899387 0.82899387\n",
            " 0.82899387 0.80762927 0.82682464 0.78307738 0.78845618 0.81730755\n",
            " 0.81730755 0.81730755 0.84686549 0.83789349 0.85320641 0.86310726\n",
            " 0.84509659 0.84509659 0.84509659 0.87857038 0.85207726 0.88459978\n",
            " 0.89983489 0.916694   0.916694   0.916694   0.94844343 0.93604513\n",
            " 0.92310731 0.92014271 0.92040412 0.92040412 0.92040412 0.88876034\n",
            " 0.89777131 0.89356621 0.90353931 0.91015834 0.91015834 0.91015834\n",
            " 0.8743263  0.86860271 0.80205031 0.82378767 0.80145511 0.80145511\n",
            " 0.80145511 0.82385991 0.85663271 0.89794921 0.93522193 0.93466013\n",
            " 0.93466013 0.93466013 0.95749881 0.95473438 0.96982473 0.94999533\n",
            " 0.97677199 0.97677199 0.97677199 1.         0.99033286 0.96711598\n",
            " 0.97494769 0.96141466 0.93253976 0.90782213 0.88043547 0.85290468\n",
            " 0.82583171 0.79955292 0.774019   0.74893236 0.72391748 0.69865507\n",
            " 0.67297053 0.64687783 0.62057835 0.59442711 0.56887794 0.54441762\n",
            " 0.52150309 0.50050902 0.48169753 0.46520501 0.45105121 0.43915796\n",
            " 0.42937687 0.42151457 0.41535556 0.41067982]\n",
            "26 day output [[0.40727395]]\n",
            "27 day input [0.87320828 0.83996263 0.84095273 0.84095273 0.84095273 0.86463132\n",
            " 0.87445422 0.86571593 0.84987462 0.82899387 0.82899387 0.82899387\n",
            " 0.80762927 0.82682464 0.78307738 0.78845618 0.81730755 0.81730755\n",
            " 0.81730755 0.84686549 0.83789349 0.85320641 0.86310726 0.84509659\n",
            " 0.84509659 0.84509659 0.87857038 0.85207726 0.88459978 0.89983489\n",
            " 0.916694   0.916694   0.916694   0.94844343 0.93604513 0.92310731\n",
            " 0.92014271 0.92040412 0.92040412 0.92040412 0.88876034 0.89777131\n",
            " 0.89356621 0.90353931 0.91015834 0.91015834 0.91015834 0.8743263\n",
            " 0.86860271 0.80205031 0.82378767 0.80145511 0.80145511 0.80145511\n",
            " 0.82385991 0.85663271 0.89794921 0.93522193 0.93466013 0.93466013\n",
            " 0.93466013 0.95749881 0.95473438 0.96982473 0.94999533 0.97677199\n",
            " 0.97677199 0.97677199 1.         0.99033286 0.96711598 0.97494769\n",
            " 0.96141466 0.93253976 0.90782213 0.88043547 0.85290468 0.82583171\n",
            " 0.79955292 0.774019   0.74893236 0.72391748 0.69865507 0.67297053\n",
            " 0.64687783 0.62057835 0.59442711 0.56887794 0.54441762 0.52150309\n",
            " 0.50050902 0.48169753 0.46520501 0.45105121 0.43915796 0.42937687\n",
            " 0.42151457 0.41535556 0.41067982 0.40727395]\n",
            "27 day output [[0.40493777]]\n",
            "28 day input [0.83996263 0.84095273 0.84095273 0.84095273 0.86463132 0.87445422\n",
            " 0.86571593 0.84987462 0.82899387 0.82899387 0.82899387 0.80762927\n",
            " 0.82682464 0.78307738 0.78845618 0.81730755 0.81730755 0.81730755\n",
            " 0.84686549 0.83789349 0.85320641 0.86310726 0.84509659 0.84509659\n",
            " 0.84509659 0.87857038 0.85207726 0.88459978 0.89983489 0.916694\n",
            " 0.916694   0.916694   0.94844343 0.93604513 0.92310731 0.92014271\n",
            " 0.92040412 0.92040412 0.92040412 0.88876034 0.89777131 0.89356621\n",
            " 0.90353931 0.91015834 0.91015834 0.91015834 0.8743263  0.86860271\n",
            " 0.80205031 0.82378767 0.80145511 0.80145511 0.80145511 0.82385991\n",
            " 0.85663271 0.89794921 0.93522193 0.93466013 0.93466013 0.93466013\n",
            " 0.95749881 0.95473438 0.96982473 0.94999533 0.97677199 0.97677199\n",
            " 0.97677199 1.         0.99033286 0.96711598 0.97494769 0.96141466\n",
            " 0.93253976 0.90782213 0.88043547 0.85290468 0.82583171 0.79955292\n",
            " 0.774019   0.74893236 0.72391748 0.69865507 0.67297053 0.64687783\n",
            " 0.62057835 0.59442711 0.56887794 0.54441762 0.52150309 0.50050902\n",
            " 0.48169753 0.46520501 0.45105121 0.43915796 0.42937687 0.42151457\n",
            " 0.41535556 0.41067982 0.40727395 0.40493777]\n",
            "28 day output [[0.40348822]]\n",
            "29 day input [0.84095273 0.84095273 0.84095273 0.86463132 0.87445422 0.86571593\n",
            " 0.84987462 0.82899387 0.82899387 0.82899387 0.80762927 0.82682464\n",
            " 0.78307738 0.78845618 0.81730755 0.81730755 0.81730755 0.84686549\n",
            " 0.83789349 0.85320641 0.86310726 0.84509659 0.84509659 0.84509659\n",
            " 0.87857038 0.85207726 0.88459978 0.89983489 0.916694   0.916694\n",
            " 0.916694   0.94844343 0.93604513 0.92310731 0.92014271 0.92040412\n",
            " 0.92040412 0.92040412 0.88876034 0.89777131 0.89356621 0.90353931\n",
            " 0.91015834 0.91015834 0.91015834 0.8743263  0.86860271 0.80205031\n",
            " 0.82378767 0.80145511 0.80145511 0.80145511 0.82385991 0.85663271\n",
            " 0.89794921 0.93522193 0.93466013 0.93466013 0.93466013 0.95749881\n",
            " 0.95473438 0.96982473 0.94999533 0.97677199 0.97677199 0.97677199\n",
            " 1.         0.99033286 0.96711598 0.97494769 0.96141466 0.93253976\n",
            " 0.90782213 0.88043547 0.85290468 0.82583171 0.79955292 0.774019\n",
            " 0.74893236 0.72391748 0.69865507 0.67297053 0.64687783 0.62057835\n",
            " 0.59442711 0.56887794 0.54441762 0.52150309 0.50050902 0.48169753\n",
            " 0.46520501 0.45105121 0.43915796 0.42937687 0.42151457 0.41535556\n",
            " 0.41067982 0.40727395 0.40493777 0.40348822]\n",
            "29 day output [[0.4027595]]\n",
            "[[0.9325397610664368], [0.9078221321105957], [0.8804354667663574], [0.8529046773910522], [0.8258317112922668], [0.7995529174804688], [0.7740190029144287], [0.7489323616027832], [0.7239174842834473], [0.6986550688743591], [0.6729705333709717], [0.6468778252601624], [0.6205783486366272], [0.5944271087646484], [0.5688779354095459], [0.5444176197052002], [0.5215030908584595], [0.5005090236663818], [0.48169752955436707], [0.46520501375198364], [0.4510512053966522], [0.43915796279907227], [0.42937687039375305], [0.4215145707130432], [0.4153555631637573], [0.41067981719970703], [0.40727394819259644], [0.4049377739429474], [0.4034882187843323], [0.40275949239730835]]\n"
          ]
        }
      ]
    },
    {
      "cell_type": "code",
      "source": [
        "day_new=np.arange(1,101)\n",
        "day_pred=np.arange(101,131)\n"
      ],
      "metadata": {
        "id": "4vwK-rCYVfKK"
      },
      "execution_count": 28,
      "outputs": []
    },
    {
      "cell_type": "markdown",
      "source": [],
      "metadata": {
        "id": "Nb2XPZElV1WZ"
      }
    },
    {
      "cell_type": "markdown",
      "source": [
        "###Visualizations"
      ],
      "metadata": {
        "id": "kba4yXwYV1cf"
      }
    },
    {
      "cell_type": "code",
      "source": [
        "len(df1)"
      ],
      "metadata": {
        "colab": {
          "base_uri": "https://localhost:8080/"
        },
        "id": "pYJxt0J4VglI",
        "outputId": "c72bfc3a-46f7-40f4-cc13-1d10d27d596d"
      },
      "execution_count": 29,
      "outputs": [
        {
          "output_type": "execute_result",
          "data": {
            "text/plain": [
              "1825"
            ]
          },
          "metadata": {},
          "execution_count": 29
        }
      ]
    },
    {
      "cell_type": "code",
      "source": [
        "plt.plot(day_new,scaler.inverse_transform(df1[1725:]))\n",
        "plt.plot(day_pred,scaler.inverse_transform(lst_output))"
      ],
      "metadata": {
        "colab": {
          "base_uri": "https://localhost:8080/",
          "height": 447
        },
        "id": "9tOhVNV8VjRa",
        "outputId": "9408149b-0654-4781-b404-94ad8ceb155b"
      },
      "execution_count": 30,
      "outputs": [
        {
          "output_type": "execute_result",
          "data": {
            "text/plain": [
              "[<matplotlib.lines.Line2D at 0x7f4d6a182d90>]"
            ]
          },
          "metadata": {},
          "execution_count": 30
        },
        {
          "output_type": "display_data",
          "data": {
            "text/plain": [
              "<Figure size 640x480 with 1 Axes>"
            ],
            "image/png": "[encoded data removed]"
          },
          "metadata": {}
        }
      ]
    },
    {
      "cell_type": "code",
      "source": [
        "\n",
        "df3=df1.tolist()\n",
        "df3.extend(lst_output)\n",
        "plt.plot(df3[1200:])"
      ],
      "metadata": {
        "colab": {
          "base_uri": "https://localhost:8080/",
          "height": 447
        },
        "id": "Sn6scRkDVpB1",
        "outputId": "9194119e-72bc-4c52-f608-1213540a6515"
      },
      "execution_count": 31,
      "outputs": [
        {
          "output_type": "execute_result",
          "data": {
            "text/plain": [
              "[<matplotlib.lines.Line2D at 0x7f4d68e0e410>]"
            ]
          },
          "metadata": {},
          "execution_count": 31
        },
        {
          "output_type": "display_data",
          "data": {
            "text/plain": [
              "<Figure size 640x480 with 1 Axes>"
            ],
            "image/png": "[encoded data removed]"
          },
          "metadata": {}
        }
      ]
    },
    {
      "cell_type": "code",
      "source": [
        "df3=scaler.inverse_transform(df3).tolist()\n",
        "plt.plot(df3)"
      ],
      "metadata": {
        "colab": {
          "base_uri": "https://localhost:8080/",
          "height": 447
        },
        "id": "vSvjcpJgVss2",
        "outputId": "9a67df9b-5f40-4764-b308-f0ed5db12955"
      },
      "execution_count": 32,
      "outputs": [
        {
          "output_type": "execute_result",
          "data": {
            "text/plain": [
              "[<matplotlib.lines.Line2D at 0x7f4d6a11ec50>]"
            ]
          },
          "metadata": {},
          "execution_count": 32
        },
        {
          "output_type": "display_data",
          "data": {
            "text/plain": [
              "<Figure size 640x480 with 1 Axes>"
            ],
            "image/png": "[encoded data removed]"
          },
          "metadata": {}
        }
      ]
    },
    {
      "cell_type": "code",
      "source": [],
      "metadata": {
        "id": "tLsMg0c7Vyr6"
      },
      "execution_count": null,
      "outputs": []
    }
  ]
}